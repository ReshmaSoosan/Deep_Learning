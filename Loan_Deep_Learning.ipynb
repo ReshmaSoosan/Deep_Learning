{
  "nbformat": 4,
  "nbformat_minor": 0,
  "metadata": {
    "colab": {
      "provenance": []
    },
    "kernelspec": {
      "name": "python3",
      "display_name": "Python 3"
    },
    "language_info": {
      "name": "python"
    },
    "accelerator": "GPU",
    "gpuClass": "standard"
  },
  "cells": [
    {
      "cell_type": "code",
      "execution_count": 1,
      "metadata": {
        "id": "BM-vVX7GaBbX"
      },
      "outputs": [],
      "source": [
        "import pandas as pd\n",
        "import numpy as np\n",
        "import matplotlib.pyplot as plt\n",
        "import seaborn as sns\n",
        "import warnings\n",
        "warnings.filterwarnings(\"ignore\")"
      ]
    },
    {
      "cell_type": "code",
      "source": [
        "data= pd.read_csv('/content/drive/MyDrive/Deep Learning/loan (1).csv',low_memory=False)\n",
        "data"
      ],
      "metadata": {
        "colab": {
          "base_uri": "https://localhost:8080/",
          "height": 661
        },
        "id": "1uoXYYUxbeKd",
        "outputId": "33070a08-92cc-4813-9bee-030a28b30e93"
      },
      "execution_count": 2,
      "outputs": [
        {
          "output_type": "execute_result",
          "data": {
            "text/plain": [
              "            id  member_id  loan_amnt  funded_amnt  funded_amnt_inv  \\\n",
              "0      1077501    1296599       5000         5000           4975.0   \n",
              "1      1077430    1314167       2500         2500           2500.0   \n",
              "2      1077175    1313524       2400         2400           2400.0   \n",
              "3      1076863    1277178      10000        10000          10000.0   \n",
              "4      1075358    1311748       3000         3000           3000.0   \n",
              "...        ...        ...        ...          ...              ...   \n",
              "39712    92187      92174       2500         2500           1075.0   \n",
              "39713    90665      90607       8500         8500            875.0   \n",
              "39714    90395      90390       5000         5000           1325.0   \n",
              "39715    90376      89243       5000         5000            650.0   \n",
              "39716    87023      86999       7500         7500            800.0   \n",
              "\n",
              "             term int_rate  installment grade sub_grade  ...  \\\n",
              "0       36 months   10.65%       162.87     B        B2  ...   \n",
              "1       60 months   15.27%        59.83     C        C4  ...   \n",
              "2       36 months   15.96%        84.33     C        C5  ...   \n",
              "3       36 months   13.49%       339.31     C        C1  ...   \n",
              "4       60 months   12.69%        67.79     B        B5  ...   \n",
              "...           ...      ...          ...   ...       ...  ...   \n",
              "39712   36 months    8.07%        78.42     A        A4  ...   \n",
              "39713   36 months   10.28%       275.38     C        C1  ...   \n",
              "39714   36 months    8.07%       156.84     A        A4  ...   \n",
              "39715   36 months    7.43%       155.38     A        A2  ...   \n",
              "39716   36 months   13.75%       255.43     E        E2  ...   \n",
              "\n",
              "      num_tl_90g_dpd_24m num_tl_op_past_12m pct_tl_nvr_dlq  percent_bc_gt_75  \\\n",
              "0                    NaN                NaN            NaN               NaN   \n",
              "1                    NaN                NaN            NaN               NaN   \n",
              "2                    NaN                NaN            NaN               NaN   \n",
              "3                    NaN                NaN            NaN               NaN   \n",
              "4                    NaN                NaN            NaN               NaN   \n",
              "...                  ...                ...            ...               ...   \n",
              "39712                NaN                NaN            NaN               NaN   \n",
              "39713                NaN                NaN            NaN               NaN   \n",
              "39714                NaN                NaN            NaN               NaN   \n",
              "39715                NaN                NaN            NaN               NaN   \n",
              "39716                NaN                NaN            NaN               NaN   \n",
              "\n",
              "      pub_rec_bankruptcies tax_liens tot_hi_cred_lim total_bal_ex_mort  \\\n",
              "0                      0.0       0.0             NaN               NaN   \n",
              "1                      0.0       0.0             NaN               NaN   \n",
              "2                      0.0       0.0             NaN               NaN   \n",
              "3                      0.0       0.0             NaN               NaN   \n",
              "4                      0.0       0.0             NaN               NaN   \n",
              "...                    ...       ...             ...               ...   \n",
              "39712                  NaN       NaN             NaN               NaN   \n",
              "39713                  NaN       NaN             NaN               NaN   \n",
              "39714                  NaN       NaN             NaN               NaN   \n",
              "39715                  NaN       NaN             NaN               NaN   \n",
              "39716                  NaN       NaN             NaN               NaN   \n",
              "\n",
              "      total_bc_limit total_il_high_credit_limit  \n",
              "0                NaN                        NaN  \n",
              "1                NaN                        NaN  \n",
              "2                NaN                        NaN  \n",
              "3                NaN                        NaN  \n",
              "4                NaN                        NaN  \n",
              "...              ...                        ...  \n",
              "39712            NaN                        NaN  \n",
              "39713            NaN                        NaN  \n",
              "39714            NaN                        NaN  \n",
              "39715            NaN                        NaN  \n",
              "39716            NaN                        NaN  \n",
              "\n",
              "[39717 rows x 111 columns]"
            ],
            "text/html": [
              "\n",
              "  <div id=\"df-2041055d-e3d7-4675-a83c-6f27add6ca57\">\n",
              "    <div class=\"colab-df-container\">\n",
              "      <div>\n",
              "<style scoped>\n",
              "    .dataframe tbody tr th:only-of-type {\n",
              "        vertical-align: middle;\n",
              "    }\n",
              "\n",
              "    .dataframe tbody tr th {\n",
              "        vertical-align: top;\n",
              "    }\n",
              "\n",
              "    .dataframe thead th {\n",
              "        text-align: right;\n",
              "    }\n",
              "</style>\n",
              "<table border=\"1\" class=\"dataframe\">\n",
              "  <thead>\n",
              "    <tr style=\"text-align: right;\">\n",
              "      <th></th>\n",
              "      <th>id</th>\n",
              "      <th>member_id</th>\n",
              "      <th>loan_amnt</th>\n",
              "      <th>funded_amnt</th>\n",
              "      <th>funded_amnt_inv</th>\n",
              "      <th>term</th>\n",
              "      <th>int_rate</th>\n",
              "      <th>installment</th>\n",
              "      <th>grade</th>\n",
              "      <th>sub_grade</th>\n",
              "      <th>...</th>\n",
              "      <th>num_tl_90g_dpd_24m</th>\n",
              "      <th>num_tl_op_past_12m</th>\n",
              "      <th>pct_tl_nvr_dlq</th>\n",
              "      <th>percent_bc_gt_75</th>\n",
              "      <th>pub_rec_bankruptcies</th>\n",
              "      <th>tax_liens</th>\n",
              "      <th>tot_hi_cred_lim</th>\n",
              "      <th>total_bal_ex_mort</th>\n",
              "      <th>total_bc_limit</th>\n",
              "      <th>total_il_high_credit_limit</th>\n",
              "    </tr>\n",
              "  </thead>\n",
              "  <tbody>\n",
              "    <tr>\n",
              "      <th>0</th>\n",
              "      <td>1077501</td>\n",
              "      <td>1296599</td>\n",
              "      <td>5000</td>\n",
              "      <td>5000</td>\n",
              "      <td>4975.0</td>\n",
              "      <td>36 months</td>\n",
              "      <td>10.65%</td>\n",
              "      <td>162.87</td>\n",
              "      <td>B</td>\n",
              "      <td>B2</td>\n",
              "      <td>...</td>\n",
              "      <td>NaN</td>\n",
              "      <td>NaN</td>\n",
              "      <td>NaN</td>\n",
              "      <td>NaN</td>\n",
              "      <td>0.0</td>\n",
              "      <td>0.0</td>\n",
              "      <td>NaN</td>\n",
              "      <td>NaN</td>\n",
              "      <td>NaN</td>\n",
              "      <td>NaN</td>\n",
              "    </tr>\n",
              "    <tr>\n",
              "      <th>1</th>\n",
              "      <td>1077430</td>\n",
              "      <td>1314167</td>\n",
              "      <td>2500</td>\n",
              "      <td>2500</td>\n",
              "      <td>2500.0</td>\n",
              "      <td>60 months</td>\n",
              "      <td>15.27%</td>\n",
              "      <td>59.83</td>\n",
              "      <td>C</td>\n",
              "      <td>C4</td>\n",
              "      <td>...</td>\n",
              "      <td>NaN</td>\n",
              "      <td>NaN</td>\n",
              "      <td>NaN</td>\n",
              "      <td>NaN</td>\n",
              "      <td>0.0</td>\n",
              "      <td>0.0</td>\n",
              "      <td>NaN</td>\n",
              "      <td>NaN</td>\n",
              "      <td>NaN</td>\n",
              "      <td>NaN</td>\n",
              "    </tr>\n",
              "    <tr>\n",
              "      <th>2</th>\n",
              "      <td>1077175</td>\n",
              "      <td>1313524</td>\n",
              "      <td>2400</td>\n",
              "      <td>2400</td>\n",
              "      <td>2400.0</td>\n",
              "      <td>36 months</td>\n",
              "      <td>15.96%</td>\n",
              "      <td>84.33</td>\n",
              "      <td>C</td>\n",
              "      <td>C5</td>\n",
              "      <td>...</td>\n",
              "      <td>NaN</td>\n",
              "      <td>NaN</td>\n",
              "      <td>NaN</td>\n",
              "      <td>NaN</td>\n",
              "      <td>0.0</td>\n",
              "      <td>0.0</td>\n",
              "      <td>NaN</td>\n",
              "      <td>NaN</td>\n",
              "      <td>NaN</td>\n",
              "      <td>NaN</td>\n",
              "    </tr>\n",
              "    <tr>\n",
              "      <th>3</th>\n",
              "      <td>1076863</td>\n",
              "      <td>1277178</td>\n",
              "      <td>10000</td>\n",
              "      <td>10000</td>\n",
              "      <td>10000.0</td>\n",
              "      <td>36 months</td>\n",
              "      <td>13.49%</td>\n",
              "      <td>339.31</td>\n",
              "      <td>C</td>\n",
              "      <td>C1</td>\n",
              "      <td>...</td>\n",
              "      <td>NaN</td>\n",
              "      <td>NaN</td>\n",
              "      <td>NaN</td>\n",
              "      <td>NaN</td>\n",
              "      <td>0.0</td>\n",
              "      <td>0.0</td>\n",
              "      <td>NaN</td>\n",
              "      <td>NaN</td>\n",
              "      <td>NaN</td>\n",
              "      <td>NaN</td>\n",
              "    </tr>\n",
              "    <tr>\n",
              "      <th>4</th>\n",
              "      <td>1075358</td>\n",
              "      <td>1311748</td>\n",
              "      <td>3000</td>\n",
              "      <td>3000</td>\n",
              "      <td>3000.0</td>\n",
              "      <td>60 months</td>\n",
              "      <td>12.69%</td>\n",
              "      <td>67.79</td>\n",
              "      <td>B</td>\n",
              "      <td>B5</td>\n",
              "      <td>...</td>\n",
              "      <td>NaN</td>\n",
              "      <td>NaN</td>\n",
              "      <td>NaN</td>\n",
              "      <td>NaN</td>\n",
              "      <td>0.0</td>\n",
              "      <td>0.0</td>\n",
              "      <td>NaN</td>\n",
              "      <td>NaN</td>\n",
              "      <td>NaN</td>\n",
              "      <td>NaN</td>\n",
              "    </tr>\n",
              "    <tr>\n",
              "      <th>...</th>\n",
              "      <td>...</td>\n",
              "      <td>...</td>\n",
              "      <td>...</td>\n",
              "      <td>...</td>\n",
              "      <td>...</td>\n",
              "      <td>...</td>\n",
              "      <td>...</td>\n",
              "      <td>...</td>\n",
              "      <td>...</td>\n",
              "      <td>...</td>\n",
              "      <td>...</td>\n",
              "      <td>...</td>\n",
              "      <td>...</td>\n",
              "      <td>...</td>\n",
              "      <td>...</td>\n",
              "      <td>...</td>\n",
              "      <td>...</td>\n",
              "      <td>...</td>\n",
              "      <td>...</td>\n",
              "      <td>...</td>\n",
              "      <td>...</td>\n",
              "    </tr>\n",
              "    <tr>\n",
              "      <th>39712</th>\n",
              "      <td>92187</td>\n",
              "      <td>92174</td>\n",
              "      <td>2500</td>\n",
              "      <td>2500</td>\n",
              "      <td>1075.0</td>\n",
              "      <td>36 months</td>\n",
              "      <td>8.07%</td>\n",
              "      <td>78.42</td>\n",
              "      <td>A</td>\n",
              "      <td>A4</td>\n",
              "      <td>...</td>\n",
              "      <td>NaN</td>\n",
              "      <td>NaN</td>\n",
              "      <td>NaN</td>\n",
              "      <td>NaN</td>\n",
              "      <td>NaN</td>\n",
              "      <td>NaN</td>\n",
              "      <td>NaN</td>\n",
              "      <td>NaN</td>\n",
              "      <td>NaN</td>\n",
              "      <td>NaN</td>\n",
              "    </tr>\n",
              "    <tr>\n",
              "      <th>39713</th>\n",
              "      <td>90665</td>\n",
              "      <td>90607</td>\n",
              "      <td>8500</td>\n",
              "      <td>8500</td>\n",
              "      <td>875.0</td>\n",
              "      <td>36 months</td>\n",
              "      <td>10.28%</td>\n",
              "      <td>275.38</td>\n",
              "      <td>C</td>\n",
              "      <td>C1</td>\n",
              "      <td>...</td>\n",
              "      <td>NaN</td>\n",
              "      <td>NaN</td>\n",
              "      <td>NaN</td>\n",
              "      <td>NaN</td>\n",
              "      <td>NaN</td>\n",
              "      <td>NaN</td>\n",
              "      <td>NaN</td>\n",
              "      <td>NaN</td>\n",
              "      <td>NaN</td>\n",
              "      <td>NaN</td>\n",
              "    </tr>\n",
              "    <tr>\n",
              "      <th>39714</th>\n",
              "      <td>90395</td>\n",
              "      <td>90390</td>\n",
              "      <td>5000</td>\n",
              "      <td>5000</td>\n",
              "      <td>1325.0</td>\n",
              "      <td>36 months</td>\n",
              "      <td>8.07%</td>\n",
              "      <td>156.84</td>\n",
              "      <td>A</td>\n",
              "      <td>A4</td>\n",
              "      <td>...</td>\n",
              "      <td>NaN</td>\n",
              "      <td>NaN</td>\n",
              "      <td>NaN</td>\n",
              "      <td>NaN</td>\n",
              "      <td>NaN</td>\n",
              "      <td>NaN</td>\n",
              "      <td>NaN</td>\n",
              "      <td>NaN</td>\n",
              "      <td>NaN</td>\n",
              "      <td>NaN</td>\n",
              "    </tr>\n",
              "    <tr>\n",
              "      <th>39715</th>\n",
              "      <td>90376</td>\n",
              "      <td>89243</td>\n",
              "      <td>5000</td>\n",
              "      <td>5000</td>\n",
              "      <td>650.0</td>\n",
              "      <td>36 months</td>\n",
              "      <td>7.43%</td>\n",
              "      <td>155.38</td>\n",
              "      <td>A</td>\n",
              "      <td>A2</td>\n",
              "      <td>...</td>\n",
              "      <td>NaN</td>\n",
              "      <td>NaN</td>\n",
              "      <td>NaN</td>\n",
              "      <td>NaN</td>\n",
              "      <td>NaN</td>\n",
              "      <td>NaN</td>\n",
              "      <td>NaN</td>\n",
              "      <td>NaN</td>\n",
              "      <td>NaN</td>\n",
              "      <td>NaN</td>\n",
              "    </tr>\n",
              "    <tr>\n",
              "      <th>39716</th>\n",
              "      <td>87023</td>\n",
              "      <td>86999</td>\n",
              "      <td>7500</td>\n",
              "      <td>7500</td>\n",
              "      <td>800.0</td>\n",
              "      <td>36 months</td>\n",
              "      <td>13.75%</td>\n",
              "      <td>255.43</td>\n",
              "      <td>E</td>\n",
              "      <td>E2</td>\n",
              "      <td>...</td>\n",
              "      <td>NaN</td>\n",
              "      <td>NaN</td>\n",
              "      <td>NaN</td>\n",
              "      <td>NaN</td>\n",
              "      <td>NaN</td>\n",
              "      <td>NaN</td>\n",
              "      <td>NaN</td>\n",
              "      <td>NaN</td>\n",
              "      <td>NaN</td>\n",
              "      <td>NaN</td>\n",
              "    </tr>\n",
              "  </tbody>\n",
              "</table>\n",
              "<p>39717 rows × 111 columns</p>\n",
              "</div>\n",
              "      <button class=\"colab-df-convert\" onclick=\"convertToInteractive('df-2041055d-e3d7-4675-a83c-6f27add6ca57')\"\n",
              "              title=\"Convert this dataframe to an interactive table.\"\n",
              "              style=\"display:none;\">\n",
              "        \n",
              "  <svg xmlns=\"http://www.w3.org/2000/svg\" height=\"24px\"viewBox=\"0 0 24 24\"\n",
              "       width=\"24px\">\n",
              "    <path d=\"M0 0h24v24H0V0z\" fill=\"none\"/>\n",
              "    <path d=\"M18.56 5.44l.94 2.06.94-2.06 2.06-.94-2.06-.94-.94-2.06-.94 2.06-2.06.94zm-11 1L8.5 8.5l.94-2.06 2.06-.94-2.06-.94L8.5 2.5l-.94 2.06-2.06.94zm10 10l.94 2.06.94-2.06 2.06-.94-2.06-.94-.94-2.06-.94 2.06-2.06.94z\"/><path d=\"M17.41 7.96l-1.37-1.37c-.4-.4-.92-.59-1.43-.59-.52 0-1.04.2-1.43.59L10.3 9.45l-7.72 7.72c-.78.78-.78 2.05 0 2.83L4 21.41c.39.39.9.59 1.41.59.51 0 1.02-.2 1.41-.59l7.78-7.78 2.81-2.81c.8-.78.8-2.07 0-2.86zM5.41 20L4 18.59l7.72-7.72 1.47 1.35L5.41 20z\"/>\n",
              "  </svg>\n",
              "      </button>\n",
              "      \n",
              "  <style>\n",
              "    .colab-df-container {\n",
              "      display:flex;\n",
              "      flex-wrap:wrap;\n",
              "      gap: 12px;\n",
              "    }\n",
              "\n",
              "    .colab-df-convert {\n",
              "      background-color: #E8F0FE;\n",
              "      border: none;\n",
              "      border-radius: 50%;\n",
              "      cursor: pointer;\n",
              "      display: none;\n",
              "      fill: #1967D2;\n",
              "      height: 32px;\n",
              "      padding: 0 0 0 0;\n",
              "      width: 32px;\n",
              "    }\n",
              "\n",
              "    .colab-df-convert:hover {\n",
              "      background-color: #E2EBFA;\n",
              "      box-shadow: 0px 1px 2px rgba(60, 64, 67, 0.3), 0px 1px 3px 1px rgba(60, 64, 67, 0.15);\n",
              "      fill: #174EA6;\n",
              "    }\n",
              "\n",
              "    [theme=dark] .colab-df-convert {\n",
              "      background-color: #3B4455;\n",
              "      fill: #D2E3FC;\n",
              "    }\n",
              "\n",
              "    [theme=dark] .colab-df-convert:hover {\n",
              "      background-color: #434B5C;\n",
              "      box-shadow: 0px 1px 3px 1px rgba(0, 0, 0, 0.15);\n",
              "      filter: drop-shadow(0px 1px 2px rgba(0, 0, 0, 0.3));\n",
              "      fill: #FFFFFF;\n",
              "    }\n",
              "  </style>\n",
              "\n",
              "      <script>\n",
              "        const buttonEl =\n",
              "          document.querySelector('#df-2041055d-e3d7-4675-a83c-6f27add6ca57 button.colab-df-convert');\n",
              "        buttonEl.style.display =\n",
              "          google.colab.kernel.accessAllowed ? 'block' : 'none';\n",
              "\n",
              "        async function convertToInteractive(key) {\n",
              "          const element = document.querySelector('#df-2041055d-e3d7-4675-a83c-6f27add6ca57');\n",
              "          const dataTable =\n",
              "            await google.colab.kernel.invokeFunction('convertToInteractive',\n",
              "                                                     [key], {});\n",
              "          if (!dataTable) return;\n",
              "\n",
              "          const docLinkHtml = 'Like what you see? Visit the ' +\n",
              "            '<a target=\"_blank\" href=https://colab.research.google.com/notebooks/data_table.ipynb>data table notebook</a>'\n",
              "            + ' to learn more about interactive tables.';\n",
              "          element.innerHTML = '';\n",
              "          dataTable['output_type'] = 'display_data';\n",
              "          await google.colab.output.renderOutput(dataTable, element);\n",
              "          const docLink = document.createElement('div');\n",
              "          docLink.innerHTML = docLinkHtml;\n",
              "          element.appendChild(docLink);\n",
              "        }\n",
              "      </script>\n",
              "    </div>\n",
              "  </div>\n",
              "  "
            ]
          },
          "metadata": {},
          "execution_count": 2
        }
      ]
    },
    {
      "cell_type": "code",
      "source": [
        "data.shape"
      ],
      "metadata": {
        "colab": {
          "base_uri": "https://localhost:8080/"
        },
        "id": "3z6gdbOretbz",
        "outputId": "6b32b673-951f-4735-d725-8a3c1dce10b3"
      },
      "execution_count": 3,
      "outputs": [
        {
          "output_type": "execute_result",
          "data": {
            "text/plain": [
              "(39717, 111)"
            ]
          },
          "metadata": {},
          "execution_count": 3
        }
      ]
    },
    {
      "cell_type": "code",
      "source": [
        "data.info()"
      ],
      "metadata": {
        "colab": {
          "base_uri": "https://localhost:8080/"
        },
        "id": "T4I3Xonbe1H0",
        "outputId": "634458e4-2236-432e-81d6-9487b5a41220"
      },
      "execution_count": 4,
      "outputs": [
        {
          "output_type": "stream",
          "name": "stdout",
          "text": [
            "<class 'pandas.core.frame.DataFrame'>\n",
            "RangeIndex: 39717 entries, 0 to 39716\n",
            "Columns: 111 entries, id to total_il_high_credit_limit\n",
            "dtypes: float64(74), int64(13), object(24)\n",
            "memory usage: 33.6+ MB\n"
          ]
        }
      ]
    },
    {
      "cell_type": "markdown",
      "source": [
        "## **Exploratory Data Analysis**"
      ],
      "metadata": {
        "id": "LyKNwENyibFr"
      }
    },
    {
      "cell_type": "code",
      "source": [
        "data.isna().sum()"
      ],
      "metadata": {
        "colab": {
          "base_uri": "https://localhost:8080/"
        },
        "id": "0AGWzS3we7jE",
        "outputId": "4525bc4a-1e73-4ecf-85da-be5cb9e5b470"
      },
      "execution_count": 5,
      "outputs": [
        {
          "output_type": "execute_result",
          "data": {
            "text/plain": [
              "id                                0\n",
              "member_id                         0\n",
              "loan_amnt                         0\n",
              "funded_amnt                       0\n",
              "funded_amnt_inv                   0\n",
              "                              ...  \n",
              "tax_liens                        39\n",
              "tot_hi_cred_lim               39717\n",
              "total_bal_ex_mort             39717\n",
              "total_bc_limit                39717\n",
              "total_il_high_credit_limit    39717\n",
              "Length: 111, dtype: int64"
            ]
          },
          "metadata": {},
          "execution_count": 5
        }
      ]
    },
    {
      "cell_type": "code",
      "source": [
        "loan=data"
      ],
      "metadata": {
        "id": "xeCCuMtOjdM9"
      },
      "execution_count": 6,
      "outputs": []
    },
    {
      "cell_type": "code",
      "source": [
        "loan.isna().sum()/len(loan.index)*100 #missing value Proportion"
      ],
      "metadata": {
        "colab": {
          "base_uri": "https://localhost:8080/"
        },
        "id": "hTEgzOKTijtO",
        "outputId": "3e078b91-d54e-4bc2-9be0-1b22dcb7c1c5"
      },
      "execution_count": 7,
      "outputs": [
        {
          "output_type": "execute_result",
          "data": {
            "text/plain": [
              "id                              0.000000\n",
              "member_id                       0.000000\n",
              "loan_amnt                       0.000000\n",
              "funded_amnt                     0.000000\n",
              "funded_amnt_inv                 0.000000\n",
              "                                 ...    \n",
              "tax_liens                       0.098195\n",
              "tot_hi_cred_lim               100.000000\n",
              "total_bal_ex_mort             100.000000\n",
              "total_bc_limit                100.000000\n",
              "total_il_high_credit_limit    100.000000\n",
              "Length: 111, dtype: float64"
            ]
          },
          "metadata": {},
          "execution_count": 7
        }
      ]
    },
    {
      "cell_type": "code",
      "execution_count": 8,
      "metadata": {
        "id": "BJvkFFVmeRpB"
      },
      "outputs": [],
      "source": [
        "#columns with more than 90 % missing value\n",
        "missing_cols=loan.columns[loan.isna().sum()/len(loan.index)*100 >90]"
      ]
    },
    {
      "cell_type": "code",
      "execution_count": 9,
      "metadata": {
        "id": "F_qgHiR5eRpD",
        "outputId": "3942d5c5-f351-4fdd-e236-6dbedaca4c1e",
        "colab": {
          "base_uri": "https://localhost:8080/"
        }
      },
      "outputs": [
        {
          "output_type": "execute_result",
          "data": {
            "text/plain": [
              "56"
            ]
          },
          "metadata": {},
          "execution_count": 9
        }
      ],
      "source": [
        "len(missing_cols)"
      ]
    },
    {
      "cell_type": "code",
      "execution_count": 10,
      "metadata": {
        "id": "A4gl3SC2eRpE"
      },
      "outputs": [],
      "source": [
        "loan=loan.drop(missing_cols,axis=1)"
      ]
    },
    {
      "cell_type": "code",
      "execution_count": 11,
      "metadata": {
        "id": "5eWUiPCeeRpF",
        "outputId": "436f9776-553e-4eba-d498-33da0085482a",
        "colab": {
          "base_uri": "https://localhost:8080/"
        }
      },
      "outputs": [
        {
          "output_type": "execute_result",
          "data": {
            "text/plain": [
              "(39717, 55)"
            ]
          },
          "metadata": {},
          "execution_count": 11
        }
      ],
      "source": [
        "loan.shape"
      ]
    },
    {
      "cell_type": "code",
      "execution_count": 12,
      "metadata": {
        "id": "oD0ZT1jleRpH",
        "outputId": "d5e0465e-838d-444a-c420-f8bfdbea1f3b",
        "colab": {
          "base_uri": "https://localhost:8080/"
        }
      },
      "outputs": [
        {
          "output_type": "execute_result",
          "data": {
            "text/plain": [
              "id                             0.000000\n",
              "member_id                      0.000000\n",
              "loan_amnt                      0.000000\n",
              "funded_amnt                    0.000000\n",
              "funded_amnt_inv                0.000000\n",
              "term                           0.000000\n",
              "int_rate                       0.000000\n",
              "installment                    0.000000\n",
              "grade                          0.000000\n",
              "sub_grade                      0.000000\n",
              "emp_title                      6.191303\n",
              "emp_length                     2.706650\n",
              "home_ownership                 0.000000\n",
              "annual_inc                     0.000000\n",
              "verification_status            0.000000\n",
              "issue_d                        0.000000\n",
              "loan_status                    0.000000\n",
              "pymnt_plan                     0.000000\n",
              "url                            0.000000\n",
              "desc                          32.580507\n",
              "purpose                        0.000000\n",
              "title                          0.027696\n",
              "zip_code                       0.000000\n",
              "addr_state                     0.000000\n",
              "dti                            0.000000\n",
              "delinq_2yrs                    0.000000\n",
              "earliest_cr_line               0.000000\n",
              "inq_last_6mths                 0.000000\n",
              "mths_since_last_delinq        64.662487\n",
              "open_acc                       0.000000\n",
              "pub_rec                        0.000000\n",
              "revol_bal                      0.000000\n",
              "revol_util                     0.125891\n",
              "total_acc                      0.000000\n",
              "initial_list_status            0.000000\n",
              "out_prncp                      0.000000\n",
              "out_prncp_inv                  0.000000\n",
              "total_pymnt                    0.000000\n",
              "total_pymnt_inv                0.000000\n",
              "total_rec_prncp                0.000000\n",
              "total_rec_int                  0.000000\n",
              "total_rec_late_fee             0.000000\n",
              "recoveries                     0.000000\n",
              "collection_recovery_fee        0.000000\n",
              "last_pymnt_d                   0.178765\n",
              "last_pymnt_amnt                0.000000\n",
              "last_credit_pull_d             0.005036\n",
              "collections_12_mths_ex_med     0.140998\n",
              "policy_code                    0.000000\n",
              "application_type               0.000000\n",
              "acc_now_delinq                 0.000000\n",
              "chargeoff_within_12_mths       0.140998\n",
              "delinq_amnt                    0.000000\n",
              "pub_rec_bankruptcies           1.754916\n",
              "tax_liens                      0.098195\n",
              "dtype: float64"
            ]
          },
          "metadata": {},
          "execution_count": 12
        }
      ],
      "source": [
        "loan.isna().sum()/len(loan.index)*100 "
      ]
    },
    {
      "cell_type": "code",
      "execution_count": 13,
      "metadata": {
        "id": "hF8AZLC6eRpI"
      },
      "outputs": [],
      "source": [
        "loan=loan.drop(['desc','mths_since_last_delinq'],axis=1)# droping these columns since they have missing value proportion more than 30 percentage"
      ]
    },
    {
      "cell_type": "code",
      "execution_count": 14,
      "metadata": {
        "id": "VSgPP0oReRpJ",
        "outputId": "75039839-5d05-4e08-8351-ee7480a95b17",
        "colab": {
          "base_uri": "https://localhost:8080/"
        }
      },
      "outputs": [
        {
          "output_type": "execute_result",
          "data": {
            "text/plain": [
              "id                               0\n",
              "member_id                        0\n",
              "loan_amnt                        0\n",
              "funded_amnt                      0\n",
              "funded_amnt_inv                  0\n",
              "term                             0\n",
              "int_rate                         0\n",
              "installment                      0\n",
              "grade                            0\n",
              "sub_grade                        0\n",
              "emp_title                     2459\n",
              "emp_length                    1075\n",
              "home_ownership                   0\n",
              "annual_inc                       0\n",
              "verification_status              0\n",
              "issue_d                          0\n",
              "loan_status                      0\n",
              "pymnt_plan                       0\n",
              "url                              0\n",
              "purpose                          0\n",
              "title                           11\n",
              "zip_code                         0\n",
              "addr_state                       0\n",
              "dti                              0\n",
              "delinq_2yrs                      0\n",
              "earliest_cr_line                 0\n",
              "inq_last_6mths                   0\n",
              "open_acc                         0\n",
              "pub_rec                          0\n",
              "revol_bal                        0\n",
              "revol_util                      50\n",
              "total_acc                        0\n",
              "initial_list_status              0\n",
              "out_prncp                        0\n",
              "out_prncp_inv                    0\n",
              "total_pymnt                      0\n",
              "total_pymnt_inv                  0\n",
              "total_rec_prncp                  0\n",
              "total_rec_int                    0\n",
              "total_rec_late_fee               0\n",
              "recoveries                       0\n",
              "collection_recovery_fee          0\n",
              "last_pymnt_d                    71\n",
              "last_pymnt_amnt                  0\n",
              "last_credit_pull_d               2\n",
              "collections_12_mths_ex_med      56\n",
              "policy_code                      0\n",
              "application_type                 0\n",
              "acc_now_delinq                   0\n",
              "chargeoff_within_12_mths        56\n",
              "delinq_amnt                      0\n",
              "pub_rec_bankruptcies           697\n",
              "tax_liens                       39\n",
              "dtype: int64"
            ]
          },
          "metadata": {},
          "execution_count": 14
        }
      ],
      "source": [
        "# checking for missing values again\n",
        "loan.isna().sum()"
      ]
    },
    {
      "cell_type": "code",
      "execution_count": 15,
      "metadata": {
        "id": "5VqdpXGMeRpK",
        "outputId": "eb609760-c920-4884-f7e8-c8551d601ef6",
        "colab": {
          "base_uri": "https://localhost:8080/"
        }
      },
      "outputs": [
        {
          "output_type": "execute_result",
          "data": {
            "text/plain": [
              "id                            0.000000\n",
              "member_id                     0.000000\n",
              "loan_amnt                     0.000000\n",
              "funded_amnt                   0.000000\n",
              "funded_amnt_inv               0.000000\n",
              "term                          0.000000\n",
              "int_rate                      0.000000\n",
              "installment                   0.000000\n",
              "grade                         0.000000\n",
              "sub_grade                     0.000000\n",
              "emp_title                     6.191303\n",
              "emp_length                    2.706650\n",
              "home_ownership                0.000000\n",
              "annual_inc                    0.000000\n",
              "verification_status           0.000000\n",
              "issue_d                       0.000000\n",
              "loan_status                   0.000000\n",
              "pymnt_plan                    0.000000\n",
              "url                           0.000000\n",
              "purpose                       0.000000\n",
              "title                         0.027696\n",
              "zip_code                      0.000000\n",
              "addr_state                    0.000000\n",
              "dti                           0.000000\n",
              "delinq_2yrs                   0.000000\n",
              "earliest_cr_line              0.000000\n",
              "inq_last_6mths                0.000000\n",
              "open_acc                      0.000000\n",
              "pub_rec                       0.000000\n",
              "revol_bal                     0.000000\n",
              "revol_util                    0.125891\n",
              "total_acc                     0.000000\n",
              "initial_list_status           0.000000\n",
              "out_prncp                     0.000000\n",
              "out_prncp_inv                 0.000000\n",
              "total_pymnt                   0.000000\n",
              "total_pymnt_inv               0.000000\n",
              "total_rec_prncp               0.000000\n",
              "total_rec_int                 0.000000\n",
              "total_rec_late_fee            0.000000\n",
              "recoveries                    0.000000\n",
              "collection_recovery_fee       0.000000\n",
              "last_pymnt_d                  0.178765\n",
              "last_pymnt_amnt               0.000000\n",
              "last_credit_pull_d            0.005036\n",
              "collections_12_mths_ex_med    0.140998\n",
              "policy_code                   0.000000\n",
              "application_type              0.000000\n",
              "acc_now_delinq                0.000000\n",
              "chargeoff_within_12_mths      0.140998\n",
              "delinq_amnt                   0.000000\n",
              "pub_rec_bankruptcies          1.754916\n",
              "tax_liens                     0.098195\n",
              "dtype: float64"
            ]
          },
          "metadata": {},
          "execution_count": 15
        }
      ],
      "source": [
        "#getting missing value proportion\n",
        "loan.isna().sum()/len(loan.index)*100 "
      ]
    },
    {
      "cell_type": "code",
      "execution_count": 16,
      "metadata": {
        "id": "3axT8inpeRpL",
        "outputId": "a313a9dd-fa43-423e-ea72-e51add7ba35e",
        "colab": {
          "base_uri": "https://localhost:8080/"
        }
      },
      "outputs": [
        {
          "output_type": "execute_result",
          "data": {
            "text/plain": [
              "0        10.65%\n",
              "1        15.27%\n",
              "2        15.96%\n",
              "3        13.49%\n",
              "4        12.69%\n",
              "          ...  \n",
              "39712     8.07%\n",
              "39713    10.28%\n",
              "39714     8.07%\n",
              "39715     7.43%\n",
              "39716    13.75%\n",
              "Name: int_rate, Length: 39717, dtype: object"
            ]
          },
          "metadata": {},
          "execution_count": 16
        }
      ],
      "source": [
        "# cleaning int_rate column\n",
        "loan['int_rate']"
      ]
    },
    {
      "cell_type": "code",
      "execution_count": 17,
      "metadata": {
        "id": "Z3ry5REJeRpL"
      },
      "outputs": [],
      "source": [
        "#removing percentage sign and converting to numeric column\n",
        "loan['int_rate']=loan['int_rate'].str.replace(\"%\",\"\").astype(float)"
      ]
    },
    {
      "cell_type": "code",
      "execution_count": 18,
      "metadata": {
        "id": "1vWw7DzOeRpM"
      },
      "outputs": [],
      "source": [
        "#removing percentage sign and converting to numeric column\n",
        "loan['revol_util']=loan['revol_util'].str.replace(\"%\",\"\").astype(float)"
      ]
    },
    {
      "cell_type": "code",
      "execution_count": 19,
      "metadata": {
        "id": "1U2Wk4FHeRpM",
        "outputId": "db1711e6-21b6-4687-d041-1c74e34ac0e0",
        "colab": {
          "base_uri": "https://localhost:8080/"
        }
      },
      "outputs": [
        {
          "output_type": "execute_result",
          "data": {
            "text/plain": [
              "0        10+ years\n",
              "1         < 1 year\n",
              "2        10+ years\n",
              "3        10+ years\n",
              "4           1 year\n",
              "           ...    \n",
              "39712      4 years\n",
              "39713      3 years\n",
              "39714     < 1 year\n",
              "39715     < 1 year\n",
              "39716     < 1 year\n",
              "Name: emp_length, Length: 39717, dtype: object"
            ]
          },
          "metadata": {},
          "execution_count": 19
        }
      ],
      "source": [
        "loan['emp_length'] # cleaning the column"
      ]
    },
    {
      "cell_type": "code",
      "execution_count": 20,
      "metadata": {
        "id": "BTkyorzKeRpN"
      },
      "outputs": [],
      "source": [
        "#since emp_length has 1075 we drop the null values in emp_length\n",
        "loan=loan[~loan['emp_length'].isnull()] #getting rows where emp_length is  not null value"
      ]
    },
    {
      "cell_type": "code",
      "execution_count": 21,
      "metadata": {
        "id": "0TfWfsAyeRpO"
      },
      "outputs": [],
      "source": [
        "#convertin emp_length to numeric\n",
        "import re"
      ]
    },
    {
      "cell_type": "code",
      "execution_count": 22,
      "metadata": {
        "id": "cj6wsKQFeRpP"
      },
      "outputs": [],
      "source": [
        "loan['emp_length']=loan['emp_length'].apply(lambda x:re.findall('\\d+',str(x))[0]).astype(int)"
      ]
    },
    {
      "cell_type": "code",
      "source": [
        "sns.countplot(x='loan_status',data=loan)"
      ],
      "metadata": {
        "colab": {
          "base_uri": "https://localhost:8080/",
          "height": 297
        },
        "id": "wRthIU3hkCaS",
        "outputId": "28acfb6c-447f-487d-fcb7-0543d54e7840"
      },
      "execution_count": 23,
      "outputs": [
        {
          "output_type": "execute_result",
          "data": {
            "text/plain": [
              "<matplotlib.axes._subplots.AxesSubplot at 0x7f28e859bf70>"
            ]
          },
          "metadata": {},
          "execution_count": 23
        },
        {
          "output_type": "display_data",
          "data": {
            "text/plain": [
              "<Figure size 432x288 with 1 Axes>"
            ],
            "image/png": "[encoded data removed]"
          },
          "metadata": {
            "needs_background": "light"
          }
        }
      ]
    },
    {
      "cell_type": "code",
      "execution_count": 24,
      "metadata": {
        "id": "yft7ZIfceRpQ",
        "outputId": "ac665cec-73bc-415d-9820-c0a47ddce478",
        "colab": {
          "base_uri": "https://localhost:8080/"
        }
      },
      "outputs": [
        {
          "output_type": "execute_result",
          "data": {
            "text/plain": [
              "Fully Paid     32145\n",
              "Charged Off     5399\n",
              "Current         1098\n",
              "Name: loan_status, dtype: int64"
            ]
          },
          "metadata": {},
          "execution_count": 24
        }
      ],
      "source": [
        "loan['loan_status'].value_counts() #getting value_counts of target variable"
      ]
    },
    {
      "cell_type": "code",
      "execution_count": 25,
      "metadata": {
        "id": "OFUj6kJXeRpQ",
        "outputId": "f9bf6908-2606-4d5f-e4bb-cf65e7e2883e",
        "colab": {
          "base_uri": "https://localhost:8080/"
        }
      },
      "outputs": [
        {
          "output_type": "execute_result",
          "data": {
            "text/plain": [
              "Fully Paid     32145\n",
              "Charged Off     5399\n",
              "Name: loan_status, dtype: int64"
            ]
          },
          "metadata": {},
          "execution_count": 25
        }
      ],
      "source": [
        "#consider only \"Fully Paid\" and \"Charged Off\"\n",
        "loan=loan[loan['loan_status']!='Current']\n",
        "loan['loan_status'].value_counts()"
      ]
    },
    {
      "cell_type": "code",
      "execution_count": 26,
      "metadata": {
        "id": "VLwJf6Y6eRpR",
        "outputId": "3c3a8b4b-4de0-4ca6-9019-3b0c7ad8d93a",
        "colab": {
          "base_uri": "https://localhost:8080/"
        }
      },
      "outputs": [
        {
          "output_type": "execute_result",
          "data": {
            "text/plain": [
              "array([ 0.,  1.,  2., nan])"
            ]
          },
          "metadata": {},
          "execution_count": 26
        }
      ],
      "source": [
        "# removing nan value and filling with mean\n",
        "loan['pub_rec_bankruptcies'].unique()"
      ]
    },
    {
      "cell_type": "code",
      "execution_count": 27,
      "metadata": {
        "id": "NomT1vp_eRpR",
        "outputId": "0e0a0213-3327-49ad-8e3c-5a50ebbaf4d9",
        "colab": {
          "base_uri": "https://localhost:8080/"
        }
      },
      "outputs": [
        {
          "output_type": "execute_result",
          "data": {
            "text/plain": [
              "0    0.0\n",
              "dtype: float64"
            ]
          },
          "metadata": {},
          "execution_count": 27
        }
      ],
      "source": [
        "loan['pub_rec_bankruptcies'].mode()"
      ]
    },
    {
      "cell_type": "code",
      "execution_count": 28,
      "metadata": {
        "id": "NG0GwNDIeRpR"
      },
      "outputs": [],
      "source": [
        "loan['pub_rec_bankruptcies']=loan['pub_rec_bankruptcies'].fillna(0.0)"
      ]
    },
    {
      "cell_type": "code",
      "execution_count": 29,
      "metadata": {
        "id": "KYwapaxXeRpS",
        "outputId": "b35e067f-fe21-4d46-f1ff-b4cca6fe3271",
        "colab": {
          "base_uri": "https://localhost:8080/"
        }
      },
      "outputs": [
        {
          "output_type": "execute_result",
          "data": {
            "text/plain": [
              "array([0., 1., 2.])"
            ]
          },
          "metadata": {},
          "execution_count": 29
        }
      ],
      "source": [
        "loan['pub_rec_bankruptcies'].unique()"
      ]
    },
    {
      "cell_type": "markdown",
      "source": [
        "# Feature Engineering"
      ],
      "metadata": {
        "id": "HfyuqAAhxfr_"
      }
    },
    {
      "cell_type": "code",
      "execution_count": 30,
      "metadata": {
        "id": "4j6zc9hCeRpT"
      },
      "outputs": [],
      "source": [
        "from datetime import datetime\n",
        "loan['issue_d']=loan['issue_d'].apply(lambda x:datetime.strptime(x,'%b-%y'))"
      ]
    },
    {
      "cell_type": "code",
      "execution_count": 31,
      "metadata": {
        "id": "-8MN-bAOeRpT"
      },
      "outputs": [],
      "source": [
        "loan['issue_d_month']=loan['issue_d'].apply(lambda x:x.month) #extracting month"
      ]
    },
    {
      "cell_type": "code",
      "execution_count": 32,
      "metadata": {
        "id": "eRb4itupeRpT"
      },
      "outputs": [],
      "source": [
        "loan['issue_d_year']=loan['issue_d'].apply(lambda x:x.year) #extracting year"
      ]
    },
    {
      "cell_type": "code",
      "execution_count": 33,
      "metadata": {
        "id": "vDHqYwz9eRpU"
      },
      "outputs": [],
      "source": [
        "# loan['pymnt_plan'] not needed since it has only one value and no info will be provided\n",
        "# loan['earliest_cr_line'] not needed\n",
        "#loan['initial_list_status']  not needed since it has only one value and no info will be provided\n",
        "#loan['out_prncp_inv'] not needed since it has only one value and no info will be provided\n",
        "#loan['collections_12_mths_ex_med'] not needed since it has only 0 value and null value  and no info will be provided\n",
        "#loan['policy_code'] not needed since it has only one value and no info will be provided\n",
        "# loan['application_type'] not needed since it has only one value and no info will be provided\n",
        "#loan['acc_now_delinq']not needed since it has only one value and no info will be provided \n",
        "#loan['delinq_amnt']not needed since it has only one value and no info will be provided \n",
        "#loan['tax_liens'] not needed since it has only one value and no info will be provided "
      ]
    },
    {
      "cell_type": "code",
      "execution_count": 34,
      "metadata": {
        "id": "xB-wVAmUeRpU"
      },
      "outputs": [],
      "source": [
        "#loan['last_pymnt_d_month']=loan['last_pymnt_d'].apply(lambda x:x.month)"
      ]
    },
    {
      "cell_type": "code",
      "execution_count": 35,
      "metadata": {
        "id": "1qO5bKXNeRpV",
        "outputId": "38d0cecf-7543-4d60-ac24-8eaf10e1da3b",
        "colab": {
          "base_uri": "https://localhost:8080/"
        }
      },
      "outputs": [
        {
          "output_type": "execute_result",
          "data": {
            "text/plain": [
              "Index(['id', 'member_id', 'loan_amnt', 'funded_amnt', 'funded_amnt_inv',\n",
              "       'term', 'int_rate', 'installment', 'grade', 'sub_grade', 'emp_title',\n",
              "       'emp_length', 'home_ownership', 'annual_inc', 'verification_status',\n",
              "       'issue_d', 'loan_status', 'pymnt_plan', 'url', 'purpose', 'title',\n",
              "       'zip_code', 'addr_state', 'dti', 'delinq_2yrs', 'earliest_cr_line',\n",
              "       'inq_last_6mths', 'open_acc', 'pub_rec', 'revol_bal', 'revol_util',\n",
              "       'total_acc', 'initial_list_status', 'out_prncp', 'out_prncp_inv',\n",
              "       'total_pymnt', 'total_pymnt_inv', 'total_rec_prncp', 'total_rec_int',\n",
              "       'total_rec_late_fee', 'recoveries', 'collection_recovery_fee',\n",
              "       'last_pymnt_d', 'last_pymnt_amnt', 'last_credit_pull_d',\n",
              "       'collections_12_mths_ex_med', 'policy_code', 'application_type',\n",
              "       'acc_now_delinq', 'chargeoff_within_12_mths', 'delinq_amnt',\n",
              "       'pub_rec_bankruptcies', 'tax_liens', 'issue_d_month', 'issue_d_year'],\n",
              "      dtype='object')"
            ]
          },
          "metadata": {},
          "execution_count": 35
        }
      ],
      "source": [
        "loan.columns"
      ]
    },
    {
      "cell_type": "code",
      "execution_count": 36,
      "metadata": {
        "id": "jB6n1XBIeRpV"
      },
      "outputs": [],
      "source": [
        "req_cols=['loan_amnt', 'funded_amnt', 'funded_amnt_inv',\n",
        "       'term', 'int_rate', 'installment', 'grade', 'sub_grade',\n",
        "       'emp_length', 'home_ownership', 'annual_inc', 'verification_status', 'purpose', 'dti', 'delinq_2yrs',\n",
        "       'inq_last_6mths', 'open_acc', 'pub_rec', 'revol_bal', 'revol_util',\n",
        "       'total_acc','total_pymnt', 'total_pymnt_inv', 'total_rec_prncp', 'total_rec_int',\n",
        "       'total_rec_late_fee', 'recoveries', 'collection_recovery_fee', 'last_pymnt_amnt', 'chargeoff_within_12_mths',\n",
        "       'pub_rec_bankruptcies', 'tax_liens', 'issue_d_month', 'issue_d_year','loan_status']"
      ]
    },
    {
      "cell_type": "code",
      "execution_count": 37,
      "metadata": {
        "scrolled": true,
        "id": "jlE36mnmeRpV",
        "outputId": "c4fd0503-6f38-44e2-9a83-d297dbc35df2",
        "colab": {
          "base_uri": "https://localhost:8080/",
          "height": 661
        }
      },
      "outputs": [
        {
          "output_type": "execute_result",
          "data": {
            "text/plain": [
              "       loan_amnt  funded_amnt  funded_amnt_inv        term  int_rate  \\\n",
              "0           5000         5000           4975.0   36 months     10.65   \n",
              "1           2500         2500           2500.0   60 months     15.27   \n",
              "2           2400         2400           2400.0   36 months     15.96   \n",
              "3          10000        10000          10000.0   36 months     13.49   \n",
              "5           5000         5000           5000.0   36 months      7.90   \n",
              "...          ...          ...              ...         ...       ...   \n",
              "39712       2500         2500           1075.0   36 months      8.07   \n",
              "39713       8500         8500            875.0   36 months     10.28   \n",
              "39714       5000         5000           1325.0   36 months      8.07   \n",
              "39715       5000         5000            650.0   36 months      7.43   \n",
              "39716       7500         7500            800.0   36 months     13.75   \n",
              "\n",
              "       installment grade sub_grade  emp_length home_ownership  ...  \\\n",
              "0           162.87     B        B2          10           RENT  ...   \n",
              "1            59.83     C        C4           1           RENT  ...   \n",
              "2            84.33     C        C5          10           RENT  ...   \n",
              "3           339.31     C        C1          10           RENT  ...   \n",
              "5           156.46     A        A4           3           RENT  ...   \n",
              "...            ...   ...       ...         ...            ...  ...   \n",
              "39712        78.42     A        A4           4       MORTGAGE  ...   \n",
              "39713       275.38     C        C1           3           RENT  ...   \n",
              "39714       156.84     A        A4           1       MORTGAGE  ...   \n",
              "39715       155.38     A        A2           1       MORTGAGE  ...   \n",
              "39716       255.43     E        E2           1            OWN  ...   \n",
              "\n",
              "       total_rec_late_fee recoveries collection_recovery_fee  last_pymnt_amnt  \\\n",
              "0                    0.00       0.00                    0.00           171.62   \n",
              "1                    0.00     117.08                    1.11           119.66   \n",
              "2                    0.00       0.00                    0.00           649.91   \n",
              "3                   16.97       0.00                    0.00           357.48   \n",
              "5                    0.00       0.00                    0.00           161.03   \n",
              "...                   ...        ...                     ...              ...   \n",
              "39712                0.00       0.00                    0.00            80.90   \n",
              "39713                0.00       0.00                    0.00           281.94   \n",
              "39714                0.00       0.00                    0.00             0.00   \n",
              "39715                0.00       0.00                    0.00             0.00   \n",
              "39716                0.00       0.00                    0.00           256.59   \n",
              "\n",
              "       chargeoff_within_12_mths  pub_rec_bankruptcies  tax_liens  \\\n",
              "0                           0.0                   0.0        0.0   \n",
              "1                           0.0                   0.0        0.0   \n",
              "2                           0.0                   0.0        0.0   \n",
              "3                           0.0                   0.0        0.0   \n",
              "5                           0.0                   0.0        0.0   \n",
              "...                         ...                   ...        ...   \n",
              "39712                       NaN                   0.0        NaN   \n",
              "39713                       NaN                   0.0        NaN   \n",
              "39714                       NaN                   0.0        NaN   \n",
              "39715                       NaN                   0.0        NaN   \n",
              "39716                       NaN                   0.0        NaN   \n",
              "\n",
              "       issue_d_month  issue_d_year  loan_status  \n",
              "0                 12          2011   Fully Paid  \n",
              "1                 12          2011  Charged Off  \n",
              "2                 12          2011   Fully Paid  \n",
              "3                 12          2011   Fully Paid  \n",
              "5                 12          2011   Fully Paid  \n",
              "...              ...           ...          ...  \n",
              "39712              7          2007   Fully Paid  \n",
              "39713              7          2007   Fully Paid  \n",
              "39714              7          2007   Fully Paid  \n",
              "39715              7          2007   Fully Paid  \n",
              "39716              6          2007   Fully Paid  \n",
              "\n",
              "[37544 rows x 35 columns]"
            ],
            "text/html": [
              "\n",
              "  <div id=\"df-c9dc330f-60f4-4bff-92a6-feecfe778068\">\n",
              "    <div class=\"colab-df-container\">\n",
              "      <div>\n",
              "<style scoped>\n",
              "    .dataframe tbody tr th:only-of-type {\n",
              "        vertical-align: middle;\n",
              "    }\n",
              "\n",
              "    .dataframe tbody tr th {\n",
              "        vertical-align: top;\n",
              "    }\n",
              "\n",
              "    .dataframe thead th {\n",
              "        text-align: right;\n",
              "    }\n",
              "</style>\n",
              "<table border=\"1\" class=\"dataframe\">\n",
              "  <thead>\n",
              "    <tr style=\"text-align: right;\">\n",
              "      <th></th>\n",
              "      <th>loan_amnt</th>\n",
              "      <th>funded_amnt</th>\n",
              "      <th>funded_amnt_inv</th>\n",
              "      <th>term</th>\n",
              "      <th>int_rate</th>\n",
              "      <th>installment</th>\n",
              "      <th>grade</th>\n",
              "      <th>sub_grade</th>\n",
              "      <th>emp_length</th>\n",
              "      <th>home_ownership</th>\n",
              "      <th>...</th>\n",
              "      <th>total_rec_late_fee</th>\n",
              "      <th>recoveries</th>\n",
              "      <th>collection_recovery_fee</th>\n",
              "      <th>last_pymnt_amnt</th>\n",
              "      <th>chargeoff_within_12_mths</th>\n",
              "      <th>pub_rec_bankruptcies</th>\n",
              "      <th>tax_liens</th>\n",
              "      <th>issue_d_month</th>\n",
              "      <th>issue_d_year</th>\n",
              "      <th>loan_status</th>\n",
              "    </tr>\n",
              "  </thead>\n",
              "  <tbody>\n",
              "    <tr>\n",
              "      <th>0</th>\n",
              "      <td>5000</td>\n",
              "      <td>5000</td>\n",
              "      <td>4975.0</td>\n",
              "      <td>36 months</td>\n",
              "      <td>10.65</td>\n",
              "      <td>162.87</td>\n",
              "      <td>B</td>\n",
              "      <td>B2</td>\n",
              "      <td>10</td>\n",
              "      <td>RENT</td>\n",
              "      <td>...</td>\n",
              "      <td>0.00</td>\n",
              "      <td>0.00</td>\n",
              "      <td>0.00</td>\n",
              "      <td>171.62</td>\n",
              "      <td>0.0</td>\n",
              "      <td>0.0</td>\n",
              "      <td>0.0</td>\n",
              "      <td>12</td>\n",
              "      <td>2011</td>\n",
              "      <td>Fully Paid</td>\n",
              "    </tr>\n",
              "    <tr>\n",
              "      <th>1</th>\n",
              "      <td>2500</td>\n",
              "      <td>2500</td>\n",
              "      <td>2500.0</td>\n",
              "      <td>60 months</td>\n",
              "      <td>15.27</td>\n",
              "      <td>59.83</td>\n",
              "      <td>C</td>\n",
              "      <td>C4</td>\n",
              "      <td>1</td>\n",
              "      <td>RENT</td>\n",
              "      <td>...</td>\n",
              "      <td>0.00</td>\n",
              "      <td>117.08</td>\n",
              "      <td>1.11</td>\n",
              "      <td>119.66</td>\n",
              "      <td>0.0</td>\n",
              "      <td>0.0</td>\n",
              "      <td>0.0</td>\n",
              "      <td>12</td>\n",
              "      <td>2011</td>\n",
              "      <td>Charged Off</td>\n",
              "    </tr>\n",
              "    <tr>\n",
              "      <th>2</th>\n",
              "      <td>2400</td>\n",
              "      <td>2400</td>\n",
              "      <td>2400.0</td>\n",
              "      <td>36 months</td>\n",
              "      <td>15.96</td>\n",
              "      <td>84.33</td>\n",
              "      <td>C</td>\n",
              "      <td>C5</td>\n",
              "      <td>10</td>\n",
              "      <td>RENT</td>\n",
              "      <td>...</td>\n",
              "      <td>0.00</td>\n",
              "      <td>0.00</td>\n",
              "      <td>0.00</td>\n",
              "      <td>649.91</td>\n",
              "      <td>0.0</td>\n",
              "      <td>0.0</td>\n",
              "      <td>0.0</td>\n",
              "      <td>12</td>\n",
              "      <td>2011</td>\n",
              "      <td>Fully Paid</td>\n",
              "    </tr>\n",
              "    <tr>\n",
              "      <th>3</th>\n",
              "      <td>10000</td>\n",
              "      <td>10000</td>\n",
              "      <td>10000.0</td>\n",
              "      <td>36 months</td>\n",
              "      <td>13.49</td>\n",
              "      <td>339.31</td>\n",
              "      <td>C</td>\n",
              "      <td>C1</td>\n",
              "      <td>10</td>\n",
              "      <td>RENT</td>\n",
              "      <td>...</td>\n",
              "      <td>16.97</td>\n",
              "      <td>0.00</td>\n",
              "      <td>0.00</td>\n",
              "      <td>357.48</td>\n",
              "      <td>0.0</td>\n",
              "      <td>0.0</td>\n",
              "      <td>0.0</td>\n",
              "      <td>12</td>\n",
              "      <td>2011</td>\n",
              "      <td>Fully Paid</td>\n",
              "    </tr>\n",
              "    <tr>\n",
              "      <th>5</th>\n",
              "      <td>5000</td>\n",
              "      <td>5000</td>\n",
              "      <td>5000.0</td>\n",
              "      <td>36 months</td>\n",
              "      <td>7.90</td>\n",
              "      <td>156.46</td>\n",
              "      <td>A</td>\n",
              "      <td>A4</td>\n",
              "      <td>3</td>\n",
              "      <td>RENT</td>\n",
              "      <td>...</td>\n",
              "      <td>0.00</td>\n",
              "      <td>0.00</td>\n",
              "      <td>0.00</td>\n",
              "      <td>161.03</td>\n",
              "      <td>0.0</td>\n",
              "      <td>0.0</td>\n",
              "      <td>0.0</td>\n",
              "      <td>12</td>\n",
              "      <td>2011</td>\n",
              "      <td>Fully Paid</td>\n",
              "    </tr>\n",
              "    <tr>\n",
              "      <th>...</th>\n",
              "      <td>...</td>\n",
              "      <td>...</td>\n",
              "      <td>...</td>\n",
              "      <td>...</td>\n",
              "      <td>...</td>\n",
              "      <td>...</td>\n",
              "      <td>...</td>\n",
              "      <td>...</td>\n",
              "      <td>...</td>\n",
              "      <td>...</td>\n",
              "      <td>...</td>\n",
              "      <td>...</td>\n",
              "      <td>...</td>\n",
              "      <td>...</td>\n",
              "      <td>...</td>\n",
              "      <td>...</td>\n",
              "      <td>...</td>\n",
              "      <td>...</td>\n",
              "      <td>...</td>\n",
              "      <td>...</td>\n",
              "      <td>...</td>\n",
              "    </tr>\n",
              "    <tr>\n",
              "      <th>39712</th>\n",
              "      <td>2500</td>\n",
              "      <td>2500</td>\n",
              "      <td>1075.0</td>\n",
              "      <td>36 months</td>\n",
              "      <td>8.07</td>\n",
              "      <td>78.42</td>\n",
              "      <td>A</td>\n",
              "      <td>A4</td>\n",
              "      <td>4</td>\n",
              "      <td>MORTGAGE</td>\n",
              "      <td>...</td>\n",
              "      <td>0.00</td>\n",
              "      <td>0.00</td>\n",
              "      <td>0.00</td>\n",
              "      <td>80.90</td>\n",
              "      <td>NaN</td>\n",
              "      <td>0.0</td>\n",
              "      <td>NaN</td>\n",
              "      <td>7</td>\n",
              "      <td>2007</td>\n",
              "      <td>Fully Paid</td>\n",
              "    </tr>\n",
              "    <tr>\n",
              "      <th>39713</th>\n",
              "      <td>8500</td>\n",
              "      <td>8500</td>\n",
              "      <td>875.0</td>\n",
              "      <td>36 months</td>\n",
              "      <td>10.28</td>\n",
              "      <td>275.38</td>\n",
              "      <td>C</td>\n",
              "      <td>C1</td>\n",
              "      <td>3</td>\n",
              "      <td>RENT</td>\n",
              "      <td>...</td>\n",
              "      <td>0.00</td>\n",
              "      <td>0.00</td>\n",
              "      <td>0.00</td>\n",
              "      <td>281.94</td>\n",
              "      <td>NaN</td>\n",
              "      <td>0.0</td>\n",
              "      <td>NaN</td>\n",
              "      <td>7</td>\n",
              "      <td>2007</td>\n",
              "      <td>Fully Paid</td>\n",
              "    </tr>\n",
              "    <tr>\n",
              "      <th>39714</th>\n",
              "      <td>5000</td>\n",
              "      <td>5000</td>\n",
              "      <td>1325.0</td>\n",
              "      <td>36 months</td>\n",
              "      <td>8.07</td>\n",
              "      <td>156.84</td>\n",
              "      <td>A</td>\n",
              "      <td>A4</td>\n",
              "      <td>1</td>\n",
              "      <td>MORTGAGE</td>\n",
              "      <td>...</td>\n",
              "      <td>0.00</td>\n",
              "      <td>0.00</td>\n",
              "      <td>0.00</td>\n",
              "      <td>0.00</td>\n",
              "      <td>NaN</td>\n",
              "      <td>0.0</td>\n",
              "      <td>NaN</td>\n",
              "      <td>7</td>\n",
              "      <td>2007</td>\n",
              "      <td>Fully Paid</td>\n",
              "    </tr>\n",
              "    <tr>\n",
              "      <th>39715</th>\n",
              "      <td>5000</td>\n",
              "      <td>5000</td>\n",
              "      <td>650.0</td>\n",
              "      <td>36 months</td>\n",
              "      <td>7.43</td>\n",
              "      <td>155.38</td>\n",
              "      <td>A</td>\n",
              "      <td>A2</td>\n",
              "      <td>1</td>\n",
              "      <td>MORTGAGE</td>\n",
              "      <td>...</td>\n",
              "      <td>0.00</td>\n",
              "      <td>0.00</td>\n",
              "      <td>0.00</td>\n",
              "      <td>0.00</td>\n",
              "      <td>NaN</td>\n",
              "      <td>0.0</td>\n",
              "      <td>NaN</td>\n",
              "      <td>7</td>\n",
              "      <td>2007</td>\n",
              "      <td>Fully Paid</td>\n",
              "    </tr>\n",
              "    <tr>\n",
              "      <th>39716</th>\n",
              "      <td>7500</td>\n",
              "      <td>7500</td>\n",
              "      <td>800.0</td>\n",
              "      <td>36 months</td>\n",
              "      <td>13.75</td>\n",
              "      <td>255.43</td>\n",
              "      <td>E</td>\n",
              "      <td>E2</td>\n",
              "      <td>1</td>\n",
              "      <td>OWN</td>\n",
              "      <td>...</td>\n",
              "      <td>0.00</td>\n",
              "      <td>0.00</td>\n",
              "      <td>0.00</td>\n",
              "      <td>256.59</td>\n",
              "      <td>NaN</td>\n",
              "      <td>0.0</td>\n",
              "      <td>NaN</td>\n",
              "      <td>6</td>\n",
              "      <td>2007</td>\n",
              "      <td>Fully Paid</td>\n",
              "    </tr>\n",
              "  </tbody>\n",
              "</table>\n",
              "<p>37544 rows × 35 columns</p>\n",
              "</div>\n",
              "      <button class=\"colab-df-convert\" onclick=\"convertToInteractive('df-c9dc330f-60f4-4bff-92a6-feecfe778068')\"\n",
              "              title=\"Convert this dataframe to an interactive table.\"\n",
              "              style=\"display:none;\">\n",
              "        \n",
              "  <svg xmlns=\"http://www.w3.org/2000/svg\" height=\"24px\"viewBox=\"0 0 24 24\"\n",
              "       width=\"24px\">\n",
              "    <path d=\"M0 0h24v24H0V0z\" fill=\"none\"/>\n",
              "    <path d=\"M18.56 5.44l.94 2.06.94-2.06 2.06-.94-2.06-.94-.94-2.06-.94 2.06-2.06.94zm-11 1L8.5 8.5l.94-2.06 2.06-.94-2.06-.94L8.5 2.5l-.94 2.06-2.06.94zm10 10l.94 2.06.94-2.06 2.06-.94-2.06-.94-.94-2.06-.94 2.06-2.06.94z\"/><path d=\"M17.41 7.96l-1.37-1.37c-.4-.4-.92-.59-1.43-.59-.52 0-1.04.2-1.43.59L10.3 9.45l-7.72 7.72c-.78.78-.78 2.05 0 2.83L4 21.41c.39.39.9.59 1.41.59.51 0 1.02-.2 1.41-.59l7.78-7.78 2.81-2.81c.8-.78.8-2.07 0-2.86zM5.41 20L4 18.59l7.72-7.72 1.47 1.35L5.41 20z\"/>\n",
              "  </svg>\n",
              "      </button>\n",
              "      \n",
              "  <style>\n",
              "    .colab-df-container {\n",
              "      display:flex;\n",
              "      flex-wrap:wrap;\n",
              "      gap: 12px;\n",
              "    }\n",
              "\n",
              "    .colab-df-convert {\n",
              "      background-color: #E8F0FE;\n",
              "      border: none;\n",
              "      border-radius: 50%;\n",
              "      cursor: pointer;\n",
              "      display: none;\n",
              "      fill: #1967D2;\n",
              "      height: 32px;\n",
              "      padding: 0 0 0 0;\n",
              "      width: 32px;\n",
              "    }\n",
              "\n",
              "    .colab-df-convert:hover {\n",
              "      background-color: #E2EBFA;\n",
              "      box-shadow: 0px 1px 2px rgba(60, 64, 67, 0.3), 0px 1px 3px 1px rgba(60, 64, 67, 0.15);\n",
              "      fill: #174EA6;\n",
              "    }\n",
              "\n",
              "    [theme=dark] .colab-df-convert {\n",
              "      background-color: #3B4455;\n",
              "      fill: #D2E3FC;\n",
              "    }\n",
              "\n",
              "    [theme=dark] .colab-df-convert:hover {\n",
              "      background-color: #434B5C;\n",
              "      box-shadow: 0px 1px 3px 1px rgba(0, 0, 0, 0.15);\n",
              "      filter: drop-shadow(0px 1px 2px rgba(0, 0, 0, 0.3));\n",
              "      fill: #FFFFFF;\n",
              "    }\n",
              "  </style>\n",
              "\n",
              "      <script>\n",
              "        const buttonEl =\n",
              "          document.querySelector('#df-c9dc330f-60f4-4bff-92a6-feecfe778068 button.colab-df-convert');\n",
              "        buttonEl.style.display =\n",
              "          google.colab.kernel.accessAllowed ? 'block' : 'none';\n",
              "\n",
              "        async function convertToInteractive(key) {\n",
              "          const element = document.querySelector('#df-c9dc330f-60f4-4bff-92a6-feecfe778068');\n",
              "          const dataTable =\n",
              "            await google.colab.kernel.invokeFunction('convertToInteractive',\n",
              "                                                     [key], {});\n",
              "          if (!dataTable) return;\n",
              "\n",
              "          const docLinkHtml = 'Like what you see? Visit the ' +\n",
              "            '<a target=\"_blank\" href=https://colab.research.google.com/notebooks/data_table.ipynb>data table notebook</a>'\n",
              "            + ' to learn more about interactive tables.';\n",
              "          element.innerHTML = '';\n",
              "          dataTable['output_type'] = 'display_data';\n",
              "          await google.colab.output.renderOutput(dataTable, element);\n",
              "          const docLink = document.createElement('div');\n",
              "          docLink.innerHTML = docLinkHtml;\n",
              "          element.appendChild(docLink);\n",
              "        }\n",
              "      </script>\n",
              "    </div>\n",
              "  </div>\n",
              "  "
            ]
          },
          "metadata": {},
          "execution_count": 37
        }
      ],
      "source": [
        "loan[req_cols]"
      ]
    },
    {
      "cell_type": "code",
      "execution_count": 38,
      "metadata": {
        "id": "ceBWJwRSeRpW"
      },
      "outputs": [],
      "source": [
        "\n",
        "loan[req_cols].to_csv(\"loan-processed.csv\",index=False)"
      ]
    },
    {
      "cell_type": "code",
      "execution_count": 39,
      "metadata": {
        "id": "a5xc7tK1eRpW"
      },
      "outputs": [],
      "source": [
        "new_data = pd.read_csv(\"loan-processed.csv\")"
      ]
    },
    {
      "cell_type": "code",
      "execution_count": 40,
      "metadata": {
        "id": "BPILo2oaeRpW",
        "outputId": "282025a2-7534-47f5-b67b-fb04a5092566",
        "colab": {
          "base_uri": "https://localhost:8080/"
        }
      },
      "outputs": [
        {
          "output_type": "execute_result",
          "data": {
            "text/plain": [
              "loan_amnt                    0\n",
              "funded_amnt                  0\n",
              "funded_amnt_inv              0\n",
              "term                         0\n",
              "int_rate                     0\n",
              "installment                  0\n",
              "grade                        0\n",
              "sub_grade                    0\n",
              "emp_length                   0\n",
              "home_ownership               0\n",
              "annual_inc                   0\n",
              "verification_status          0\n",
              "purpose                      0\n",
              "dti                          0\n",
              "delinq_2yrs                  0\n",
              "inq_last_6mths               0\n",
              "open_acc                     0\n",
              "pub_rec                      0\n",
              "revol_bal                    0\n",
              "revol_util                  47\n",
              "total_acc                    0\n",
              "total_pymnt                  0\n",
              "total_pymnt_inv              0\n",
              "total_rec_prncp              0\n",
              "total_rec_int                0\n",
              "total_rec_late_fee           0\n",
              "recoveries                   0\n",
              "collection_recovery_fee      0\n",
              "last_pymnt_amnt              0\n",
              "chargeoff_within_12_mths    56\n",
              "pub_rec_bankruptcies         0\n",
              "tax_liens                   39\n",
              "issue_d_month                0\n",
              "issue_d_year                 0\n",
              "loan_status                  0\n",
              "dtype: int64"
            ]
          },
          "metadata": {},
          "execution_count": 40
        }
      ],
      "source": [
        "new_data.isna().sum()"
      ]
    },
    {
      "cell_type": "code",
      "source": [
        "new_data.shape"
      ],
      "metadata": {
        "colab": {
          "base_uri": "https://localhost:8080/"
        },
        "id": "Ydy5Hf1rk4jA",
        "outputId": "eacd6c0e-00e9-437c-a1db-561a5cf82e6c"
      },
      "execution_count": 41,
      "outputs": [
        {
          "output_type": "execute_result",
          "data": {
            "text/plain": [
              "(37544, 35)"
            ]
          },
          "metadata": {},
          "execution_count": 41
        }
      ]
    },
    {
      "cell_type": "code",
      "execution_count": 42,
      "metadata": {
        "id": "ompzWnRXeRpX",
        "outputId": "dd8f9de2-82a6-4fce-ce02-a125f879b63d",
        "colab": {
          "base_uri": "https://localhost:8080/",
          "height": 265
        }
      },
      "outputs": [
        {
          "output_type": "display_data",
          "data": {
            "text/plain": [
              "<Figure size 432x288 with 1 Axes>"
            ],
            "image/png": "[encoded data removed]"
          },
          "metadata": {
            "needs_background": "light"
          }
        }
      ],
      "source": [
        "plt.hist(new_data['revol_util'])\n",
        "plt.show()"
      ]
    },
    {
      "cell_type": "code",
      "execution_count": 43,
      "metadata": {
        "id": "vnpwhHKXeRpX"
      },
      "outputs": [],
      "source": [
        "median_ru = new_data['revol_util'].median()\n",
        "new_data['revol_util'] = new_data['revol_util'].fillna(median_ru)"
      ]
    },
    {
      "cell_type": "code",
      "execution_count": 44,
      "metadata": {
        "id": "AlwTk5AfeRpX"
      },
      "outputs": [],
      "source": [
        "new_data = new_data.drop(\"chargeoff_within_12_mths\",axis=1)"
      ]
    },
    {
      "cell_type": "code",
      "execution_count": 45,
      "metadata": {
        "id": "MS4RcgaueRpY"
      },
      "outputs": [],
      "source": [
        "new_data = new_data.drop(\"tax_liens\",axis=1) # since the columne has only 0 and nan value we can drop it"
      ]
    },
    {
      "cell_type": "code",
      "execution_count": 46,
      "metadata": {
        "id": "EVwF0aEceRpY",
        "outputId": "d6a096e7-b75c-4847-add5-594265940c43",
        "colab": {
          "base_uri": "https://localhost:8080/"
        }
      },
      "outputs": [
        {
          "output_type": "execute_result",
          "data": {
            "text/plain": [
              "loan_amnt                  0\n",
              "funded_amnt                0\n",
              "funded_amnt_inv            0\n",
              "term                       0\n",
              "int_rate                   0\n",
              "installment                0\n",
              "grade                      0\n",
              "sub_grade                  0\n",
              "emp_length                 0\n",
              "home_ownership             0\n",
              "annual_inc                 0\n",
              "verification_status        0\n",
              "purpose                    0\n",
              "dti                        0\n",
              "delinq_2yrs                0\n",
              "inq_last_6mths             0\n",
              "open_acc                   0\n",
              "pub_rec                    0\n",
              "revol_bal                  0\n",
              "revol_util                 0\n",
              "total_acc                  0\n",
              "total_pymnt                0\n",
              "total_pymnt_inv            0\n",
              "total_rec_prncp            0\n",
              "total_rec_int              0\n",
              "total_rec_late_fee         0\n",
              "recoveries                 0\n",
              "collection_recovery_fee    0\n",
              "last_pymnt_amnt            0\n",
              "pub_rec_bankruptcies       0\n",
              "issue_d_month              0\n",
              "issue_d_year               0\n",
              "loan_status                0\n",
              "dtype: int64"
            ]
          },
          "metadata": {},
          "execution_count": 46
        }
      ],
      "source": [
        "new_data.isna().sum()"
      ]
    },
    {
      "cell_type": "code",
      "execution_count": 47,
      "metadata": {
        "id": "KBnr6EAQeRpY",
        "outputId": "9ac215db-1d21-4fca-abcd-066952959882",
        "colab": {
          "base_uri": "https://localhost:8080/"
        }
      },
      "outputs": [
        {
          "output_type": "execute_result",
          "data": {
            "text/plain": [
              "array([' 36 months', ' 60 months'], dtype=object)"
            ]
          },
          "metadata": {},
          "execution_count": 47
        }
      ],
      "source": [
        "new_data['term'].unique()"
      ]
    },
    {
      "cell_type": "code",
      "execution_count": 48,
      "metadata": {
        "id": "jCLDLq0peRpZ"
      },
      "outputs": [],
      "source": [
        "new_data[\"term\"] = new_data['term'].map({' 36 months':36,' 60 months':60})"
      ]
    },
    {
      "cell_type": "code",
      "execution_count": 49,
      "metadata": {
        "id": "NrZ34GDxeRpZ",
        "outputId": "36f9672f-4294-43c9-fa9c-b27a0db05fb9",
        "colab": {
          "base_uri": "https://localhost:8080/"
        }
      },
      "outputs": [
        {
          "output_type": "stream",
          "name": "stdout",
          "text": [
            "<class 'pandas.core.frame.DataFrame'>\n",
            "RangeIndex: 37544 entries, 0 to 37543\n",
            "Data columns (total 33 columns):\n",
            " #   Column                   Non-Null Count  Dtype  \n",
            "---  ------                   --------------  -----  \n",
            " 0   loan_amnt                37544 non-null  int64  \n",
            " 1   funded_amnt              37544 non-null  int64  \n",
            " 2   funded_amnt_inv          37544 non-null  float64\n",
            " 3   term                     37544 non-null  int64  \n",
            " 4   int_rate                 37544 non-null  float64\n",
            " 5   installment              37544 non-null  float64\n",
            " 6   grade                    37544 non-null  object \n",
            " 7   sub_grade                37544 non-null  object \n",
            " 8   emp_length               37544 non-null  int64  \n",
            " 9   home_ownership           37544 non-null  object \n",
            " 10  annual_inc               37544 non-null  float64\n",
            " 11  verification_status      37544 non-null  object \n",
            " 12  purpose                  37544 non-null  object \n",
            " 13  dti                      37544 non-null  float64\n",
            " 14  delinq_2yrs              37544 non-null  int64  \n",
            " 15  inq_last_6mths           37544 non-null  int64  \n",
            " 16  open_acc                 37544 non-null  int64  \n",
            " 17  pub_rec                  37544 non-null  int64  \n",
            " 18  revol_bal                37544 non-null  int64  \n",
            " 19  revol_util               37544 non-null  float64\n",
            " 20  total_acc                37544 non-null  int64  \n",
            " 21  total_pymnt              37544 non-null  float64\n",
            " 22  total_pymnt_inv          37544 non-null  float64\n",
            " 23  total_rec_prncp          37544 non-null  float64\n",
            " 24  total_rec_int            37544 non-null  float64\n",
            " 25  total_rec_late_fee       37544 non-null  float64\n",
            " 26  recoveries               37544 non-null  float64\n",
            " 27  collection_recovery_fee  37544 non-null  float64\n",
            " 28  last_pymnt_amnt          37544 non-null  float64\n",
            " 29  pub_rec_bankruptcies     37544 non-null  float64\n",
            " 30  issue_d_month            37544 non-null  int64  \n",
            " 31  issue_d_year             37544 non-null  int64  \n",
            " 32  loan_status              37544 non-null  object \n",
            "dtypes: float64(15), int64(12), object(6)\n",
            "memory usage: 9.5+ MB\n"
          ]
        }
      ],
      "source": [
        "new_data.info()"
      ]
    },
    {
      "cell_type": "code",
      "source": [
        "new_data['loan_status'].unique()"
      ],
      "metadata": {
        "colab": {
          "base_uri": "https://localhost:8080/"
        },
        "id": "uegQVwg9hLN7",
        "outputId": "21e6fe8e-071e-4a80-ba2e-372a1009a8b3"
      },
      "execution_count": 50,
      "outputs": [
        {
          "output_type": "execute_result",
          "data": {
            "text/plain": [
              "array(['Fully Paid', 'Charged Off'], dtype=object)"
            ]
          },
          "metadata": {},
          "execution_count": 50
        }
      ]
    },
    {
      "cell_type": "code",
      "source": [
        "#mapping new_data['loan_status'] to 0 and 1\n",
        "new_data['loan_repaid'] = new_data['loan_status'].map({'Fully Paid':1,'Charged Off':0})"
      ],
      "metadata": {
        "id": "5yq5XRrnhnoM"
      },
      "execution_count": 51,
      "outputs": []
    },
    {
      "cell_type": "code",
      "source": [
        "new_data[['loan_repaid','loan_status']]"
      ],
      "metadata": {
        "colab": {
          "base_uri": "https://localhost:8080/",
          "height": 424
        },
        "id": "ZQOxR9Nbh28K",
        "outputId": "70db21a5-e055-4529-99d0-9a1940d51ee2"
      },
      "execution_count": 52,
      "outputs": [
        {
          "output_type": "execute_result",
          "data": {
            "text/plain": [
              "       loan_repaid  loan_status\n",
              "0                1   Fully Paid\n",
              "1                0  Charged Off\n",
              "2                1   Fully Paid\n",
              "3                1   Fully Paid\n",
              "4                1   Fully Paid\n",
              "...            ...          ...\n",
              "37539            1   Fully Paid\n",
              "37540            1   Fully Paid\n",
              "37541            1   Fully Paid\n",
              "37542            1   Fully Paid\n",
              "37543            1   Fully Paid\n",
              "\n",
              "[37544 rows x 2 columns]"
            ],
            "text/html": [
              "\n",
              "  <div id=\"df-d49a731b-323c-4614-8b6b-d1abb8085b94\">\n",
              "    <div class=\"colab-df-container\">\n",
              "      <div>\n",
              "<style scoped>\n",
              "    .dataframe tbody tr th:only-of-type {\n",
              "        vertical-align: middle;\n",
              "    }\n",
              "\n",
              "    .dataframe tbody tr th {\n",
              "        vertical-align: top;\n",
              "    }\n",
              "\n",
              "    .dataframe thead th {\n",
              "        text-align: right;\n",
              "    }\n",
              "</style>\n",
              "<table border=\"1\" class=\"dataframe\">\n",
              "  <thead>\n",
              "    <tr style=\"text-align: right;\">\n",
              "      <th></th>\n",
              "      <th>loan_repaid</th>\n",
              "      <th>loan_status</th>\n",
              "    </tr>\n",
              "  </thead>\n",
              "  <tbody>\n",
              "    <tr>\n",
              "      <th>0</th>\n",
              "      <td>1</td>\n",
              "      <td>Fully Paid</td>\n",
              "    </tr>\n",
              "    <tr>\n",
              "      <th>1</th>\n",
              "      <td>0</td>\n",
              "      <td>Charged Off</td>\n",
              "    </tr>\n",
              "    <tr>\n",
              "      <th>2</th>\n",
              "      <td>1</td>\n",
              "      <td>Fully Paid</td>\n",
              "    </tr>\n",
              "    <tr>\n",
              "      <th>3</th>\n",
              "      <td>1</td>\n",
              "      <td>Fully Paid</td>\n",
              "    </tr>\n",
              "    <tr>\n",
              "      <th>4</th>\n",
              "      <td>1</td>\n",
              "      <td>Fully Paid</td>\n",
              "    </tr>\n",
              "    <tr>\n",
              "      <th>...</th>\n",
              "      <td>...</td>\n",
              "      <td>...</td>\n",
              "    </tr>\n",
              "    <tr>\n",
              "      <th>37539</th>\n",
              "      <td>1</td>\n",
              "      <td>Fully Paid</td>\n",
              "    </tr>\n",
              "    <tr>\n",
              "      <th>37540</th>\n",
              "      <td>1</td>\n",
              "      <td>Fully Paid</td>\n",
              "    </tr>\n",
              "    <tr>\n",
              "      <th>37541</th>\n",
              "      <td>1</td>\n",
              "      <td>Fully Paid</td>\n",
              "    </tr>\n",
              "    <tr>\n",
              "      <th>37542</th>\n",
              "      <td>1</td>\n",
              "      <td>Fully Paid</td>\n",
              "    </tr>\n",
              "    <tr>\n",
              "      <th>37543</th>\n",
              "      <td>1</td>\n",
              "      <td>Fully Paid</td>\n",
              "    </tr>\n",
              "  </tbody>\n",
              "</table>\n",
              "<p>37544 rows × 2 columns</p>\n",
              "</div>\n",
              "      <button class=\"colab-df-convert\" onclick=\"convertToInteractive('df-d49a731b-323c-4614-8b6b-d1abb8085b94')\"\n",
              "              title=\"Convert this dataframe to an interactive table.\"\n",
              "              style=\"display:none;\">\n",
              "        \n",
              "  <svg xmlns=\"http://www.w3.org/2000/svg\" height=\"24px\"viewBox=\"0 0 24 24\"\n",
              "       width=\"24px\">\n",
              "    <path d=\"M0 0h24v24H0V0z\" fill=\"none\"/>\n",
              "    <path d=\"M18.56 5.44l.94 2.06.94-2.06 2.06-.94-2.06-.94-.94-2.06-.94 2.06-2.06.94zm-11 1L8.5 8.5l.94-2.06 2.06-.94-2.06-.94L8.5 2.5l-.94 2.06-2.06.94zm10 10l.94 2.06.94-2.06 2.06-.94-2.06-.94-.94-2.06-.94 2.06-2.06.94z\"/><path d=\"M17.41 7.96l-1.37-1.37c-.4-.4-.92-.59-1.43-.59-.52 0-1.04.2-1.43.59L10.3 9.45l-7.72 7.72c-.78.78-.78 2.05 0 2.83L4 21.41c.39.39.9.59 1.41.59.51 0 1.02-.2 1.41-.59l7.78-7.78 2.81-2.81c.8-.78.8-2.07 0-2.86zM5.41 20L4 18.59l7.72-7.72 1.47 1.35L5.41 20z\"/>\n",
              "  </svg>\n",
              "      </button>\n",
              "      \n",
              "  <style>\n",
              "    .colab-df-container {\n",
              "      display:flex;\n",
              "      flex-wrap:wrap;\n",
              "      gap: 12px;\n",
              "    }\n",
              "\n",
              "    .colab-df-convert {\n",
              "      background-color: #E8F0FE;\n",
              "      border: none;\n",
              "      border-radius: 50%;\n",
              "      cursor: pointer;\n",
              "      display: none;\n",
              "      fill: #1967D2;\n",
              "      height: 32px;\n",
              "      padding: 0 0 0 0;\n",
              "      width: 32px;\n",
              "    }\n",
              "\n",
              "    .colab-df-convert:hover {\n",
              "      background-color: #E2EBFA;\n",
              "      box-shadow: 0px 1px 2px rgba(60, 64, 67, 0.3), 0px 1px 3px 1px rgba(60, 64, 67, 0.15);\n",
              "      fill: #174EA6;\n",
              "    }\n",
              "\n",
              "    [theme=dark] .colab-df-convert {\n",
              "      background-color: #3B4455;\n",
              "      fill: #D2E3FC;\n",
              "    }\n",
              "\n",
              "    [theme=dark] .colab-df-convert:hover {\n",
              "      background-color: #434B5C;\n",
              "      box-shadow: 0px 1px 3px 1px rgba(0, 0, 0, 0.15);\n",
              "      filter: drop-shadow(0px 1px 2px rgba(0, 0, 0, 0.3));\n",
              "      fill: #FFFFFF;\n",
              "    }\n",
              "  </style>\n",
              "\n",
              "      <script>\n",
              "        const buttonEl =\n",
              "          document.querySelector('#df-d49a731b-323c-4614-8b6b-d1abb8085b94 button.colab-df-convert');\n",
              "        buttonEl.style.display =\n",
              "          google.colab.kernel.accessAllowed ? 'block' : 'none';\n",
              "\n",
              "        async function convertToInteractive(key) {\n",
              "          const element = document.querySelector('#df-d49a731b-323c-4614-8b6b-d1abb8085b94');\n",
              "          const dataTable =\n",
              "            await google.colab.kernel.invokeFunction('convertToInteractive',\n",
              "                                                     [key], {});\n",
              "          if (!dataTable) return;\n",
              "\n",
              "          const docLinkHtml = 'Like what you see? Visit the ' +\n",
              "            '<a target=\"_blank\" href=https://colab.research.google.com/notebooks/data_table.ipynb>data table notebook</a>'\n",
              "            + ' to learn more about interactive tables.';\n",
              "          element.innerHTML = '';\n",
              "          dataTable['output_type'] = 'display_data';\n",
              "          await google.colab.output.renderOutput(dataTable, element);\n",
              "          const docLink = document.createElement('div');\n",
              "          docLink.innerHTML = docLinkHtml;\n",
              "          element.appendChild(docLink);\n",
              "        }\n",
              "      </script>\n",
              "    </div>\n",
              "  </div>\n",
              "  "
            ]
          },
          "metadata": {},
          "execution_count": 52
        }
      ]
    },
    {
      "cell_type": "code",
      "source": [
        "new_data['loan_status']=new_data['loan_repaid']"
      ],
      "metadata": {
        "id": "7jTT6faH2Smj"
      },
      "execution_count": 53,
      "outputs": []
    },
    {
      "cell_type": "code",
      "execution_count": 54,
      "metadata": {
        "id": "Zhs49cmneRpZ",
        "outputId": "756094a3-43e5-4094-ded4-7a435fb30a2b",
        "colab": {
          "base_uri": "https://localhost:8080/"
        }
      },
      "outputs": [
        {
          "output_type": "execute_result",
          "data": {
            "text/plain": [
              "array(['B', 'C', 'A', 'E', 'F', 'D', 'G'], dtype=object)"
            ]
          },
          "metadata": {},
          "execution_count": 54
        }
      ],
      "source": [
        "new_data['grade'].unique()"
      ]
    },
    {
      "cell_type": "code",
      "execution_count": 55,
      "metadata": {
        "id": "R8ZzrYTjeRpa"
      },
      "outputs": [],
      "source": [
        "#label encoding grade column\n",
        "from sklearn.preprocessing import LabelEncoder\n",
        "le = LabelEncoder()\n",
        "new_data[\"grade\"] = le.fit_transform(new_data['grade'])"
      ]
    },
    {
      "cell_type": "code",
      "execution_count": 56,
      "metadata": {
        "id": "cAbea36IeRpa",
        "outputId": "29c92f2b-3550-4676-b788-73692d4f423f",
        "colab": {
          "base_uri": "https://localhost:8080/"
        }
      },
      "outputs": [
        {
          "output_type": "execute_result",
          "data": {
            "text/plain": [
              "array(['B2', 'C4', 'C5', 'C1', 'A4', 'E1', 'F2', 'B5', 'C3', 'B1', 'D1',\n",
              "       'A1', 'B3', 'B4', 'C2', 'D2', 'A3', 'A5', 'D5', 'A2', 'E4', 'D3',\n",
              "       'D4', 'F3', 'E3', 'F1', 'E5', 'G4', 'E2', 'G2', 'G1', 'F5', 'F4',\n",
              "       'G5', 'G3'], dtype=object)"
            ]
          },
          "metadata": {},
          "execution_count": 56
        }
      ],
      "source": [
        "new_data['sub_grade'].unique()"
      ]
    },
    {
      "cell_type": "code",
      "execution_count": 57,
      "metadata": {
        "id": "6U2mUuCReRpa",
        "outputId": "b0287583-b3f9-4c04-b616-a944aa6e0ef4",
        "colab": {
          "base_uri": "https://localhost:8080/"
        }
      },
      "outputs": [
        {
          "output_type": "execute_result",
          "data": {
            "text/plain": [
              "array(['RENT', 'OWN', 'MORTGAGE', 'OTHER', 'NONE'], dtype=object)"
            ]
          },
          "metadata": {},
          "execution_count": 57
        }
      ],
      "source": [
        "new_data['home_ownership'].unique()"
      ]
    },
    {
      "cell_type": "code",
      "execution_count": 58,
      "metadata": {
        "id": "QlQ85H40eRpb",
        "outputId": "a930ead8-74f8-4134-e0b4-ccf2e50a4734",
        "colab": {
          "base_uri": "https://localhost:8080/"
        }
      },
      "outputs": [
        {
          "output_type": "execute_result",
          "data": {
            "text/plain": [
              "array(['Verified', 'Source Verified', 'Not Verified'], dtype=object)"
            ]
          },
          "metadata": {},
          "execution_count": 58
        }
      ],
      "source": [
        "new_data['verification_status'].unique()"
      ]
    },
    {
      "cell_type": "code",
      "execution_count": 59,
      "metadata": {
        "id": "2YCYw2vSeRpb",
        "outputId": "d5e0f673-699b-40d8-858b-49e817119c4a",
        "colab": {
          "base_uri": "https://localhost:8080/"
        }
      },
      "outputs": [
        {
          "output_type": "execute_result",
          "data": {
            "text/plain": [
              "array(['credit_card', 'car', 'small_business', 'other', 'wedding',\n",
              "       'debt_consolidation', 'home_improvement', 'major_purchase',\n",
              "       'medical', 'moving', 'vacation', 'house', 'renewable_energy',\n",
              "       'educational'], dtype=object)"
            ]
          },
          "metadata": {},
          "execution_count": 59
        }
      ],
      "source": [
        "new_data['purpose'].unique()"
      ]
    },
    {
      "cell_type": "code",
      "execution_count": 60,
      "metadata": {
        "id": "45P4aEegeRpb",
        "outputId": "9f231ef0-0698-4214-88b7-794333ffa835",
        "colab": {
          "base_uri": "https://localhost:8080/"
        }
      },
      "outputs": [
        {
          "output_type": "execute_result",
          "data": {
            "text/plain": [
              "Index(['loan_amnt', 'funded_amnt', 'funded_amnt_inv', 'term', 'int_rate',\n",
              "       'installment', 'grade', 'sub_grade', 'emp_length', 'home_ownership',\n",
              "       'annual_inc', 'verification_status', 'purpose', 'dti', 'delinq_2yrs',\n",
              "       'inq_last_6mths', 'open_acc', 'pub_rec', 'revol_bal', 'revol_util',\n",
              "       'total_acc', 'total_pymnt', 'total_pymnt_inv', 'total_rec_prncp',\n",
              "       'total_rec_int', 'total_rec_late_fee', 'recoveries',\n",
              "       'collection_recovery_fee', 'last_pymnt_amnt', 'pub_rec_bankruptcies',\n",
              "       'issue_d_month', 'issue_d_year', 'loan_status', 'loan_repaid'],\n",
              "      dtype='object')"
            ]
          },
          "metadata": {},
          "execution_count": 60
        }
      ],
      "source": [
        "new_data.columns"
      ]
    },
    {
      "cell_type": "code",
      "source": [
        "#new_data.select_dtypes(['object']).columns"
      ],
      "metadata": {
        "id": "2__HP_FUirsD"
      },
      "execution_count": 61,
      "outputs": []
    },
    {
      "cell_type": "code",
      "execution_count": 62,
      "metadata": {
        "id": "i-HOk-lYG1Xc"
      },
      "outputs": [],
      "source": [
        "# Converting 'sub_grade' columns into dummy variables and concatenate with the original dataframe. set drop_first=True to drop the original columns.\n",
        "subgrade = pd.get_dummies(new_data['sub_grade'],drop_first=True)"
      ]
    },
    {
      "cell_type": "code",
      "execution_count": 63,
      "metadata": {
        "id": "tfrjIwUXG1Xc"
      },
      "outputs": [],
      "source": [
        "new_data = pd.concat([new_data.drop('sub_grade',axis=1),subgrade],axis=1)"
      ]
    },
    {
      "cell_type": "code",
      "source": [
        "new_data.select_dtypes(['object']).columns"
      ],
      "metadata": {
        "colab": {
          "base_uri": "https://localhost:8080/"
        },
        "id": "nncO53ZIkjli",
        "outputId": "445a3200-07a4-4986-874c-4a79a0e968fe"
      },
      "execution_count": 64,
      "outputs": [
        {
          "output_type": "execute_result",
          "data": {
            "text/plain": [
              "Index(['home_ownership', 'verification_status', 'purpose'], dtype='object')"
            ]
          },
          "metadata": {},
          "execution_count": 64
        }
      ]
    },
    {
      "cell_type": "code",
      "source": [
        "# Converting below columns into dummy variables and concatenate with the original dataframe. set drop_first=True to drop the original columns.\n",
        "dummies = pd.get_dummies(new_data[['verification_status','purpose' ]],drop_first=True)\n",
        "new_data= new_data.drop(['verification_status','purpose'],axis=1)\n",
        "new_data = pd.concat([new_data,dummies],axis=1)"
      ],
      "metadata": {
        "id": "GbIhJWRxi7V7"
      },
      "execution_count": 65,
      "outputs": []
    },
    {
      "cell_type": "code",
      "source": [
        "#replacing None in home_ownership into other \n",
        "new_data['home_ownership']=new_data['home_ownership'].replace(['NONE'], 'OTHER')\n",
        "dummies = pd.get_dummies(new_data['home_ownership'],drop_first=True)\n",
        "new_data= new_data.drop('home_ownership',axis=1)\n",
        "new_data = pd.concat([new_data,dummies],axis=1)"
      ],
      "metadata": {
        "id": "NGUQNwWxlY0j"
      },
      "execution_count": 66,
      "outputs": []
    },
    {
      "cell_type": "code",
      "execution_count": 67,
      "metadata": {
        "id": "E-1lvdaWeRpc",
        "outputId": "e7c5600d-ef16-49c2-9921-4fd052000621",
        "colab": {
          "base_uri": "https://localhost:8080/"
        }
      },
      "outputs": [
        {
          "output_type": "execute_result",
          "data": {
            "text/plain": [
              "(37544, 82)"
            ]
          },
          "metadata": {},
          "execution_count": 67
        }
      ],
      "source": [
        "new_data.shape"
      ]
    },
    {
      "cell_type": "code",
      "source": [
        "new_data.select_dtypes(['object']).columns"
      ],
      "metadata": {
        "colab": {
          "base_uri": "https://localhost:8080/"
        },
        "id": "Gufw1Vvpmbww",
        "outputId": "ea3b4f11-327d-4ef7-c74b-9ccc6f1f1cf2"
      },
      "execution_count": 68,
      "outputs": [
        {
          "output_type": "execute_result",
          "data": {
            "text/plain": [
              "Index([], dtype='object')"
            ]
          },
          "metadata": {},
          "execution_count": 68
        }
      ]
    },
    {
      "cell_type": "code",
      "execution_count": 69,
      "metadata": {
        "id": "WfaEl0LIG1Xf"
      },
      "outputs": [],
      "source": [
        "#new_data = new_data.drop('loan_status',axis=1)"
      ]
    },
    {
      "cell_type": "markdown",
      "source": [
        "## dependent features into y"
      ],
      "metadata": {
        "id": "oxacT_fm5zAP"
      }
    },
    {
      "cell_type": "code",
      "execution_count": 70,
      "metadata": {
        "id": "ZsqZEK5nG1Xf"
      },
      "outputs": [],
      "source": [
        "x = new_data.drop('loan_status',axis=1).values\n",
        "y = new_data['loan_status'].values"
      ]
    },
    {
      "cell_type": "markdown",
      "source": [
        "## Scaling"
      ],
      "metadata": {
        "id": "7D5DE9y76_Zg"
      }
    },
    {
      "cell_type": "code",
      "source": [
        "from sklearn.preprocessing import StandardScaler"
      ],
      "metadata": {
        "id": "lTpR6rLAUuyp"
      },
      "execution_count": 71,
      "outputs": []
    },
    {
      "cell_type": "code",
      "source": [
        "# if not scaled use scaling\n",
        "scaler = StandardScaler()\n",
        "scaler.fit(x)\n",
        "x = scaler.transform(x)"
      ],
      "metadata": {
        "id": "jdGz5SJV6-Cu"
      },
      "execution_count": 72,
      "outputs": []
    },
    {
      "cell_type": "markdown",
      "source": [
        "## Splitting into train and test "
      ],
      "metadata": {
        "id": "83vfVv_75B9u"
      }
    },
    {
      "cell_type": "code",
      "execution_count": 73,
      "metadata": {
        "id": "NAcd3_sHG1Xe"
      },
      "outputs": [],
      "source": [
        "from sklearn.model_selection import train_test_split"
      ]
    },
    {
      "cell_type": "code",
      "source": [
        "# devide the dataset into traning and testing \n",
        "x_train,x_test, y_train, y_test = train_test_split(x,y,test_size=0.2,random_state=34)"
      ],
      "metadata": {
        "id": "qEuf3FGgT_WR"
      },
      "execution_count": 74,
      "outputs": []
    },
    {
      "cell_type": "markdown",
      "source": [
        "## Model Bulding"
      ],
      "metadata": {
        "id": "E5GYUdYR7WiS"
      }
    },
    {
      "cell_type": "code",
      "source": [
        "from sklearn.metrics import accuracy_score"
      ],
      "metadata": {
        "id": "fXwWOAamQhlf"
      },
      "execution_count": 92,
      "outputs": []
    },
    {
      "cell_type": "markdown",
      "source": [
        "knn model"
      ],
      "metadata": {
        "id": "OOyRH1iC8I68"
      }
    },
    {
      "cell_type": "code",
      "source": [
        "## knn\n",
        "from sklearn.neighbors import KNeighborsClassifier\n",
        "knn = KNeighborsClassifier(n_neighbors=13)\n",
        "knn.fit(x_train, y_train)\n",
        "y_pred = knn.predict(x_test)\n",
        "accuracy_score(y_test, y_pred)"
      ],
      "metadata": {
        "colab": {
          "base_uri": "https://localhost:8080/"
        },
        "id": "qeMyNjoy7NF_",
        "outputId": "256ddc04-136a-429a-e1f2-6eb0b14dffb1"
      },
      "execution_count": 93,
      "outputs": [
        {
          "output_type": "execute_result",
          "data": {
            "text/plain": [
              "0.9464642429085098"
            ]
          },
          "metadata": {},
          "execution_count": 93
        }
      ]
    },
    {
      "cell_type": "markdown",
      "source": [
        "SVM Model"
      ],
      "metadata": {
        "id": "YGBeWHr28U7t"
      }
    },
    {
      "cell_type": "code",
      "source": [
        "### svm\n",
        "from sklearn.svm import SVC\n",
        "sv = SVC()\n",
        "sv.fit(x_train, y_train)\n",
        "y_pred = sv.predict(x_test)\n",
        "accuracy_score(y_test, y_pred)"
      ],
      "metadata": {
        "colab": {
          "base_uri": "https://localhost:8080/"
        },
        "id": "04GaCuMw8LNc",
        "outputId": "84db61b3-f6ee-49cf-df1c-040557af9a93"
      },
      "execution_count": 94,
      "outputs": [
        {
          "output_type": "execute_result",
          "data": {
            "text/plain": [
              "0.9985350912238647"
            ]
          },
          "metadata": {},
          "execution_count": 94
        }
      ]
    },
    {
      "cell_type": "markdown",
      "source": [
        "## Model using Tensorflow"
      ],
      "metadata": {
        "id": "DQPqbIFR98gN"
      }
    },
    {
      "cell_type": "code",
      "source": [
        "from tensorflow.keras.utils import to_categorical\n",
        "from tensorflow.keras import layers\n",
        "from tensorflow.keras import models"
      ],
      "metadata": {
        "id": "hTlsX90YUcbY"
      },
      "execution_count": 95,
      "outputs": []
    },
    {
      "cell_type": "code",
      "source": [
        "from tensorflow.keras.models import Sequential\n",
        "from tensorflow.keras.layers import Dense, Activation,Dropout"
      ],
      "metadata": {
        "id": "IgoB0PGq-WGN"
      },
      "execution_count": 96,
      "outputs": []
    },
    {
      "cell_type": "code",
      "source": [
        "print(x_train.shape,y_train.shape)"
      ],
      "metadata": {
        "colab": {
          "base_uri": "https://localhost:8080/"
        },
        "id": "YDdV_il2U3nv",
        "outputId": "63aa3ee7-f86a-40f6-d0eb-a63f49fb643d"
      },
      "execution_count": 97,
      "outputs": [
        {
          "output_type": "stream",
          "name": "stdout",
          "text": [
            "(30035, 81) (30035,)\n"
          ]
        }
      ]
    },
    {
      "cell_type": "markdown",
      "source": [
        "## Model 1"
      ],
      "metadata": {
        "id": "Pk7GkY0u-u4W"
      }
    },
    {
      "cell_type": "code",
      "source": [
        "#input-81, hidden1- 32, output-1"
      ],
      "metadata": {
        "id": "733DI2aNVCkx"
      },
      "execution_count": 98,
      "outputs": []
    },
    {
      "cell_type": "code",
      "source": [
        "model1 = models.Sequential()\n",
        "model1.add(layers.Dense(32, input_shape = (81,),activation='relu'))\n",
        "model1.add(layers.Dense(1, activation='sigmoid'))\n",
        "model1.summary()"
      ],
      "metadata": {
        "colab": {
          "base_uri": "https://localhost:8080/"
        },
        "id": "sKnzmBvjVKaM",
        "outputId": "f4ad6824-72f7-4c80-9351-9643d7cf6637"
      },
      "execution_count": 99,
      "outputs": [
        {
          "output_type": "stream",
          "name": "stdout",
          "text": [
            "Model: \"sequential_2\"\n",
            "_________________________________________________________________\n",
            " Layer (type)                Output Shape              Param #   \n",
            "=================================================================\n",
            " dense_5 (Dense)             (None, 32)                2624      \n",
            "                                                                 \n",
            " dense_6 (Dense)             (None, 1)                 33        \n",
            "                                                                 \n",
            "=================================================================\n",
            "Total params: 2,657\n",
            "Trainable params: 2,657\n",
            "Non-trainable params: 0\n",
            "_________________________________________________________________\n"
          ]
        }
      ]
    },
    {
      "cell_type": "code",
      "source": [
        "# Compile model\n",
        "model1.compile(loss='binary_crossentropy', optimizer='adam')"
      ],
      "metadata": {
        "id": "hRsah3RNVXND"
      },
      "execution_count": 100,
      "outputs": []
    },
    {
      "cell_type": "code",
      "source": [
        "# Train your model for 20 epochs\n",
        "model1.fit(x_train, y_train, epochs=20)\n",
        "\n",
        "# Evaluate your model accuracy on the test set\n",
        "accuracy = model1.evaluate(x_test, y_test)\n",
        "\n",
        "# Print accuracy\n",
        "print('Accuracy:',accuracy)"
      ],
      "metadata": {
        "colab": {
          "base_uri": "https://localhost:8080/"
        },
        "id": "Sa6gx_Norc4D",
        "outputId": "b5c5f222-8d65-4cf5-b575-cb690021047e"
      },
      "execution_count": 101,
      "outputs": [
        {
          "output_type": "stream",
          "name": "stdout",
          "text": [
            "Epoch 1/20\n",
            "939/939 [==============================] - 3s 2ms/step - loss: 0.0931\n",
            "Epoch 2/20\n",
            "939/939 [==============================] - 2s 2ms/step - loss: 0.0028\n",
            "Epoch 3/20\n",
            "939/939 [==============================] - 3s 3ms/step - loss: 6.8908e-04\n",
            "Epoch 4/20\n",
            "939/939 [==============================] - 2s 2ms/step - loss: 2.7186e-04\n",
            "Epoch 5/20\n",
            "939/939 [==============================] - 2s 2ms/step - loss: 1.2821e-04\n",
            "Epoch 6/20\n",
            "939/939 [==============================] - 2s 2ms/step - loss: 6.6765e-05\n",
            "Epoch 7/20\n",
            "939/939 [==============================] - 2s 2ms/step - loss: 3.6244e-05\n",
            "Epoch 8/20\n",
            "939/939 [==============================] - 2s 2ms/step - loss: 2.0356e-05\n",
            "Epoch 9/20\n",
            "939/939 [==============================] - 2s 2ms/step - loss: 1.1667e-05\n",
            "Epoch 10/20\n",
            "939/939 [==============================] - 2s 2ms/step - loss: 6.8039e-06\n",
            "Epoch 11/20\n",
            "939/939 [==============================] - 2s 2ms/step - loss: 3.9699e-06\n",
            "Epoch 12/20\n",
            "939/939 [==============================] - 2s 2ms/step - loss: 2.3393e-06\n",
            "Epoch 13/20\n",
            "939/939 [==============================] - 2s 2ms/step - loss: 1.3880e-06\n",
            "Epoch 14/20\n",
            "939/939 [==============================] - 2s 2ms/step - loss: 8.2475e-07\n",
            "Epoch 15/20\n",
            "939/939 [==============================] - 2s 2ms/step - loss: 4.9518e-07\n",
            "Epoch 16/20\n",
            "939/939 [==============================] - 2s 2ms/step - loss: 2.9894e-07\n",
            "Epoch 17/20\n",
            "939/939 [==============================] - 2s 2ms/step - loss: 1.8026e-07\n",
            "Epoch 18/20\n",
            "939/939 [==============================] - 2s 2ms/step - loss: 1.0933e-07\n",
            "Epoch 19/20\n",
            "939/939 [==============================] - 2s 2ms/step - loss: 6.7527e-08\n",
            "Epoch 20/20\n",
            "939/939 [==============================] - 2s 2ms/step - loss: 4.3367e-08\n",
            "235/235 [==============================] - 0s 2ms/step - loss: 1.3272e-06\n",
            "Accuracy: 1.3271990155772073e-06\n"
          ]
        }
      ]
    },
    {
      "cell_type": "markdown",
      "source": [
        "## Model 2"
      ],
      "metadata": {
        "id": "Gm8YgUNY_gT8"
      }
    },
    {
      "cell_type": "code",
      "source": [
        "# model 2\n",
        "model2 = models.Sequential()\n",
        "model2.add(layers.Dense(256, input_shape = (81,),activation='relu'))\n",
        "model2.add(layers.Dense(128,activation='relu'))\n",
        "model2.add(layers.Dense(1, activation='sigmoid'))\n",
        "\n",
        "# Compile your model with your optimizer, loss, and metrics\n",
        "model2.compile(optimizer='adam', loss='binary_crossentropy', metrics=['accuracy'])\n",
        "\n",
        "# Display a summary of your model\n",
        "model2.summary()"
      ],
      "metadata": {
        "colab": {
          "base_uri": "https://localhost:8080/"
        },
        "id": "7UrEbySPV1iN",
        "outputId": "955880d0-37fb-41b6-8a55-222f62dfdbc9"
      },
      "execution_count": 102,
      "outputs": [
        {
          "output_type": "stream",
          "name": "stdout",
          "text": [
            "Model: \"sequential_3\"\n",
            "_________________________________________________________________\n",
            " Layer (type)                Output Shape              Param #   \n",
            "=================================================================\n",
            " dense_7 (Dense)             (None, 256)               20992     \n",
            "                                                                 \n",
            " dense_8 (Dense)             (None, 128)               32896     \n",
            "                                                                 \n",
            " dense_9 (Dense)             (None, 1)                 129       \n",
            "                                                                 \n",
            "=================================================================\n",
            "Total params: 54,017\n",
            "Trainable params: 54,017\n",
            "Non-trainable params: 0\n",
            "_________________________________________________________________\n"
          ]
        }
      ]
    },
    {
      "cell_type": "code",
      "source": [
        "# Train your model for 20 epochs\n",
        "model2.fit(x_train, y_train, epochs=20)\n",
        "\n",
        "# Evaluate your model accuracy on the test set\n",
        "accuracy = model2.evaluate(x_test, y_test)[1]\n",
        "\n",
        "# Print accuracy\n",
        "print('Accuracy:',accuracy)"
      ],
      "metadata": {
        "colab": {
          "base_uri": "https://localhost:8080/"
        },
        "id": "BY97gvJ_rYNm",
        "outputId": "d8b27cc1-6cac-4ccd-af1e-2c3d892d2a2f"
      },
      "execution_count": 103,
      "outputs": [
        {
          "output_type": "stream",
          "name": "stdout",
          "text": [
            "Epoch 1/20\n",
            "939/939 [==============================] - 3s 3ms/step - loss: 0.0190 - accuracy: 0.9953\n",
            "Epoch 2/20\n",
            "939/939 [==============================] - 3s 3ms/step - loss: 0.0011 - accuracy: 0.9998\n",
            "Epoch 3/20\n",
            "939/939 [==============================] - 3s 3ms/step - loss: 1.1390e-05 - accuracy: 1.0000\n",
            "Epoch 4/20\n",
            "939/939 [==============================] - 3s 3ms/step - loss: 5.5722e-06 - accuracy: 1.0000\n",
            "Epoch 5/20\n",
            "939/939 [==============================] - 3s 3ms/step - loss: 3.1949e-06 - accuracy: 1.0000\n",
            "Epoch 6/20\n",
            "939/939 [==============================] - 3s 3ms/step - loss: 1.9020e-06 - accuracy: 1.0000\n",
            "Epoch 7/20\n",
            "939/939 [==============================] - 3s 3ms/step - loss: 1.1482e-06 - accuracy: 1.0000\n",
            "Epoch 8/20\n",
            "939/939 [==============================] - 3s 3ms/step - loss: 6.9892e-07 - accuracy: 1.0000\n",
            "Epoch 9/20\n",
            "939/939 [==============================] - 3s 3ms/step - loss: 4.2417e-07 - accuracy: 1.0000\n",
            "Epoch 10/20\n",
            "939/939 [==============================] - 3s 3ms/step - loss: 2.5808e-07 - accuracy: 1.0000\n",
            "Epoch 11/20\n",
            "939/939 [==============================] - 3s 3ms/step - loss: 1.5688e-07 - accuracy: 1.0000\n",
            "Epoch 12/20\n",
            "939/939 [==============================] - 3s 3ms/step - loss: 9.6012e-08 - accuracy: 1.0000\n",
            "Epoch 13/20\n",
            "939/939 [==============================] - 3s 3ms/step - loss: 5.9237e-08 - accuracy: 1.0000\n",
            "Epoch 14/20\n",
            "939/939 [==============================] - 3s 3ms/step - loss: 3.7009e-08 - accuracy: 1.0000\n",
            "Epoch 15/20\n",
            "939/939 [==============================] - 3s 3ms/step - loss: 2.3886e-08 - accuracy: 1.0000\n",
            "Epoch 16/20\n",
            "939/939 [==============================] - 3s 3ms/step - loss: 1.5742e-08 - accuracy: 1.0000\n",
            "Epoch 17/20\n",
            "939/939 [==============================] - 2s 3ms/step - loss: 1.0612e-08 - accuracy: 1.0000\n",
            "Epoch 18/20\n",
            "939/939 [==============================] - 3s 3ms/step - loss: 7.4446e-09 - accuracy: 1.0000\n",
            "Epoch 19/20\n",
            "939/939 [==============================] - 3s 3ms/step - loss: 5.3181e-09 - accuracy: 1.0000\n",
            "Epoch 20/20\n",
            "939/939 [==============================] - 3s 3ms/step - loss: 3.9555e-09 - accuracy: 1.0000\n",
            "235/235 [==============================] - 1s 2ms/step - loss: 1.1241e-04 - accuracy: 0.9999\n",
            "Accuracy: 0.9998668432235718\n"
          ]
        }
      ]
    },
    {
      "cell_type": "code",
      "source": [
        "y_pred = model2.predict(x_test)"
      ],
      "metadata": {
        "colab": {
          "base_uri": "https://localhost:8080/"
        },
        "id": "caRm_ioBJor3",
        "outputId": "7674b2a2-384a-4fe1-e238-8804f714cd08"
      },
      "execution_count": 104,
      "outputs": [
        {
          "output_type": "stream",
          "name": "stdout",
          "text": [
            "235/235 [==============================] - 0s 1ms/step\n"
          ]
        }
      ]
    },
    {
      "cell_type": "code",
      "source": [
        "model2.evaluate(x_test,y_test)"
      ],
      "metadata": {
        "colab": {
          "base_uri": "https://localhost:8080/"
        },
        "id": "UdHnbWUfJ0zI",
        "outputId": "ca270925-7974-41cd-e85b-3a4c8d9f0b31"
      },
      "execution_count": 105,
      "outputs": [
        {
          "output_type": "stream",
          "name": "stdout",
          "text": [
            "235/235 [==============================] - 1s 2ms/step - loss: 1.1241e-04 - accuracy: 0.9999\n"
          ]
        },
        {
          "output_type": "execute_result",
          "data": {
            "text/plain": [
              "[0.00011241011088714004, 0.9998668432235718]"
            ]
          },
          "metadata": {},
          "execution_count": 105
        }
      ]
    },
    {
      "cell_type": "code",
      "source": [
        "model1.evaluate(x_test,y_test)"
      ],
      "metadata": {
        "colab": {
          "base_uri": "https://localhost:8080/"
        },
        "id": "QxvMOra9KFNt",
        "outputId": "f2891f54-984a-4364-e1e2-1abb4f4fe40d"
      },
      "execution_count": 86,
      "outputs": [
        {
          "output_type": "stream",
          "name": "stdout",
          "text": [
            "235/235 [==============================] - 0s 2ms/step - loss: 4.8232e-05\n"
          ]
        },
        {
          "output_type": "execute_result",
          "data": {
            "text/plain": [
              "4.8232468543574214e-05"
            ]
          },
          "metadata": {},
          "execution_count": 86
        }
      ]
    },
    {
      "cell_type": "markdown",
      "source": [
        "## Evaluating Model Performance"
      ],
      "metadata": {
        "id": "ww7Mc-CEMRvQ"
      }
    },
    {
      "cell_type": "code",
      "source": [
        "history1 = model2.fit(x_train , y_train , epochs = 20, batch_size = 64,\n",
        "           validation_split = 0.1)"
      ],
      "metadata": {
        "colab": {
          "base_uri": "https://localhost:8080/"
        },
        "id": "n6lmzjhHKkAC",
        "outputId": "163788bf-1cbf-4fca-a189-00928da94491"
      },
      "execution_count": 106,
      "outputs": [
        {
          "output_type": "stream",
          "name": "stdout",
          "text": [
            "Epoch 1/20\n",
            "423/423 [==============================] - 1s 3ms/step - loss: 3.2146e-09 - accuracy: 1.0000 - val_loss: 3.1529e-09 - val_accuracy: 1.0000\n",
            "Epoch 2/20\n",
            "423/423 [==============================] - 1s 3ms/step - loss: 2.9149e-09 - accuracy: 1.0000 - val_loss: 2.8647e-09 - val_accuracy: 1.0000\n",
            "Epoch 3/20\n",
            "423/423 [==============================] - 1s 3ms/step - loss: 2.6167e-09 - accuracy: 1.0000 - val_loss: 2.6131e-09 - val_accuracy: 1.0000\n",
            "Epoch 4/20\n",
            "423/423 [==============================] - 1s 3ms/step - loss: 2.3824e-09 - accuracy: 1.0000 - val_loss: 2.4031e-09 - val_accuracy: 1.0000\n",
            "Epoch 5/20\n",
            "423/423 [==============================] - 1s 3ms/step - loss: 2.1854e-09 - accuracy: 1.0000 - val_loss: 2.2093e-09 - val_accuracy: 1.0000\n",
            "Epoch 6/20\n",
            "423/423 [==============================] - 1s 3ms/step - loss: 2.0143e-09 - accuracy: 1.0000 - val_loss: 2.0443e-09 - val_accuracy: 1.0000\n",
            "Epoch 7/20\n",
            "423/423 [==============================] - 1s 3ms/step - loss: 1.8670e-09 - accuracy: 1.0000 - val_loss: 1.9037e-09 - val_accuracy: 1.0000\n",
            "Epoch 8/20\n",
            "423/423 [==============================] - 1s 3ms/step - loss: 1.7428e-09 - accuracy: 1.0000 - val_loss: 1.7838e-09 - val_accuracy: 1.0000\n",
            "Epoch 9/20\n",
            "423/423 [==============================] - 1s 3ms/step - loss: 1.6355e-09 - accuracy: 1.0000 - val_loss: 1.6701e-09 - val_accuracy: 1.0000\n",
            "Epoch 10/20\n",
            "423/423 [==============================] - 1s 3ms/step - loss: 1.5349e-09 - accuracy: 1.0000 - val_loss: 1.5832e-09 - val_accuracy: 1.0000\n",
            "Epoch 11/20\n",
            "423/423 [==============================] - 1s 3ms/step - loss: 1.4519e-09 - accuracy: 1.0000 - val_loss: 1.4946e-09 - val_accuracy: 1.0000\n",
            "Epoch 12/20\n",
            "423/423 [==============================] - 1s 3ms/step - loss: 1.3745e-09 - accuracy: 1.0000 - val_loss: 1.4283e-09 - val_accuracy: 1.0000\n",
            "Epoch 13/20\n",
            "423/423 [==============================] - 1s 3ms/step - loss: 1.3120e-09 - accuracy: 1.0000 - val_loss: 1.3690e-09 - val_accuracy: 1.0000\n",
            "Epoch 14/20\n",
            "423/423 [==============================] - 1s 3ms/step - loss: 1.2543e-09 - accuracy: 1.0000 - val_loss: 1.3065e-09 - val_accuracy: 1.0000\n",
            "Epoch 15/20\n",
            "423/423 [==============================] - 1s 3ms/step - loss: 1.2031e-09 - accuracy: 1.0000 - val_loss: 1.2525e-09 - val_accuracy: 1.0000\n",
            "Epoch 16/20\n",
            "423/423 [==============================] - 1s 3ms/step - loss: 1.1527e-09 - accuracy: 1.0000 - val_loss: 1.2123e-09 - val_accuracy: 1.0000\n",
            "Epoch 17/20\n",
            "423/423 [==============================] - 1s 3ms/step - loss: 1.1067e-09 - accuracy: 1.0000 - val_loss: 1.1703e-09 - val_accuracy: 1.0000\n",
            "Epoch 18/20\n",
            "423/423 [==============================] - 1s 3ms/step - loss: 1.0663e-09 - accuracy: 1.0000 - val_loss: 1.1326e-09 - val_accuracy: 1.0000\n",
            "Epoch 19/20\n",
            "423/423 [==============================] - 1s 3ms/step - loss: 1.0333e-09 - accuracy: 1.0000 - val_loss: 1.1042e-09 - val_accuracy: 1.0000\n",
            "Epoch 20/20\n",
            "423/423 [==============================] - 1s 3ms/step - loss: 1.0029e-09 - accuracy: 1.0000 - val_loss: 1.0841e-09 - val_accuracy: 1.0000\n"
          ]
        }
      ]
    },
    {
      "cell_type": "code",
      "source": [
        "history1.history.keys()"
      ],
      "metadata": {
        "colab": {
          "base_uri": "https://localhost:8080/"
        },
        "id": "uKQmEPdpKH9L",
        "outputId": "a301dcbd-6655-48a3-e5a6-a841aee56044"
      },
      "execution_count": 107,
      "outputs": [
        {
          "output_type": "execute_result",
          "data": {
            "text/plain": [
              "dict_keys(['loss', 'accuracy', 'val_loss', 'val_accuracy'])"
            ]
          },
          "metadata": {},
          "execution_count": 107
        }
      ]
    },
    {
      "cell_type": "code",
      "source": [
        "fig, ax = plt.subplots(figsize = (8,5))\n",
        "ax.plot(history1.history['loss'], label = \"Training loss\")\n",
        "ax.plot(history1.history['val_loss'], label = \"validation loss\")\n",
        "ax.set_title(\"Loss vs epoch\")\n",
        "ax.set_xlabel(\"Epochs\")\n",
        "ax.grid()\n",
        "plt.show()"
      ],
      "metadata": {
        "colab": {
          "base_uri": "https://localhost:8080/",
          "height": 350
        },
        "id": "TLSTN_PZKbwU",
        "outputId": "eb97d12a-b709-4498-d173-33cafe1edde5"
      },
      "execution_count": 108,
      "outputs": [
        {
          "output_type": "display_data",
          "data": {
            "text/plain": [
              "<Figure size 576x360 with 1 Axes>"
            ],
            "image/png": "[encoded data removed]"
          },
          "metadata": {
            "needs_background": "light"
          }
        }
      ]
    },
    {
      "cell_type": "code",
      "source": [
        "fig, ax = plt.subplots(figsize = (8,5))\n",
        "ax.plot(np.log(history1.history['loss']), label = \"Training loss\")\n",
        "ax.plot(np.log(history1.history['val_loss']), label = \"validation loss\")\n",
        "ax.set_title(\"Log Loss vs epoch\")\n",
        "ax.set_xlabel(\"Epochs\")\n",
        "ax.set_ylabel(\"Loss loss\")\n",
        "ax.legend()\n",
        "ax.grid()\n",
        "plt.show()"
      ],
      "metadata": {
        "colab": {
          "base_uri": "https://localhost:8080/",
          "height": 350
        },
        "id": "JZckBdyILp5n",
        "outputId": "51da42f2-919c-4f5c-a1c6-ae39bcba2581"
      },
      "execution_count": 109,
      "outputs": [
        {
          "output_type": "display_data",
          "data": {
            "text/plain": [
              "<Figure size 576x360 with 1 Axes>"
            ],
            "image/png": "[encoded data removed]"
          },
          "metadata": {
            "needs_background": "light"
          }
        }
      ]
    },
    {
      "cell_type": "code",
      "source": [],
      "metadata": {
        "id": "ahrSt_VbMDuL"
      },
      "execution_count": null,
      "outputs": []
    }
  ]
}